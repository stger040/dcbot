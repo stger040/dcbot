{
 "cells": [
  {
   "cell_type": "markdown",
   "metadata": {},
   "source": [
    "# Meta-Learn Outlier Detection Benchmark"
   ]
  },
  {
   "cell_type": "code",
   "execution_count": 26,
   "metadata": {
    "collapsed": true
   },
   "outputs": [],
   "source": [
    "import time\n",
    "import scipy\n",
    "import numpy as np\n",
    "import pandas as pd\n",
    "import openml as oml\n",
    "\n",
    "from sklearn import preprocessing\n",
    "from sklearn.pipeline import Pipeline\n",
    "from sklearn.preprocessing import Imputer\n",
    "from sklearn.model_selection import cross_val_score  \n",
    "from sklearn.neighbors import KNeighborsClassifier\n",
    "from sklearn.discriminant_analysis import LinearDiscriminantAnalysis\n",
    "from sklearn.naive_bayes import GaussianNB\n",
    "from sklearn.tree import DecisionTreeClassifier\n",
    "from sklearn.metrics import roc_auc_score\n",
    "from sklearn.neighbors import LocalOutlierFactor\n",
    "from sklearn.ensemble import IsolationForest\n",
    "from sklearn import svm"
   ]
  },
  {
   "cell_type": "code",
   "execution_count": 27,
   "metadata": {
    "collapsed": true
   },
   "outputs": [],
   "source": [
    "import warnings\n",
    "warnings.filterwarnings('ignore')\n",
    "# warnings.simplefilter(action=\"ignore\", category=FutureWarning)\n",
    "# warnings.simplefilter(action=\"ignore\", category=UserWarning)\n",
    "# warnings.simplefilter(action=\"ignore\", category=RuntimeWarning)"
   ]
  },
  {
   "cell_type": "markdown",
   "metadata": {},
   "source": [
    "### Basic information of benmark datasets"
   ]
  },
  {
   "cell_type": "code",
   "execution_count": 28,
   "metadata": {
    "collapsed": true
   },
   "outputs": [],
   "source": [
    "datasets_basic = []\n",
    "dataset0 = {'datasetID': 0, 'name': 'lymph', 'contamination(%)': 4.10}\n",
    "datasets_basic.append(dataset0)\n",
    "dataset1 = {'datasetID': 1, 'name': 'glass', 'contamination(%)': 4.21}\n",
    "datasets_basic.append(dataset1)\n",
    "dataset2 = {'datasetID': 2, 'name': 'wdbc', 'contamination(%)': 37.26}\n",
    "datasets_basic.append(dataset2)\n",
    "dataset3 = {'datasetID': 3, 'name': 'speech', 'contamination(%)': 1.65}\n",
    "datasets_basic.append(dataset3)\n",
    "dataset4 = {'datasetID': 4, 'name': 'satellite_image', 'contamination(%)': 31.64}\n",
    "datasets_basic.append(dataset4)\n",
    "dataset5 = {'datasetID': 5, 'name': 'baseball', 'contamination(%)': 9.33}\n",
    "datasets_basic.append(dataset5)\n",
    "dataset6 = {'datasetID': 6, 'name': 'ecoli', 'contamination(%)': 2.68}\n",
    "datasets_basic.append(dataset6)\n",
    "dataset7 = {'datasetID': 7, 'name': 'phoneme', 'contamination(%)': 29.35}\n",
    "datasets_basic.append(dataset7)\n",
    "dataset8 = {'datasetID': 8, 'name': 'click_prediction_small', 'contamination(%)': 16.84}\n",
    "datasets_basic.append(dataset8)\n",
    "dataset9 = {'datasetID': 9, 'name': 'musk', 'contamination(%)': 15.41}\n",
    "datasets_basic.append(dataset9)\n",
    "dataset10 = {'datasetID': 10, 'name': 'credit_g', 'contamination(%)': 30.00}\n",
    "datasets_basic.append(dataset10)\n",
    "dataset11 = {'datasetID': 11, 'name': 'diabetes', 'contamination(%)': 34.89}\n",
    "datasets_basic.append(dataset11)\n",
    "dataset12 = {'datasetID': 12, 'name': 'breast_w', 'contamination(%)': 34.48}\n",
    "datasets_basic.append(dataset12)\n",
    "dataset13 = {'datasetID': 13, 'name': 'blood_transfusion_service_center', 'contamination(%)': 23.79}\n",
    "datasets_basic.append(dataset13)\n",
    "dataset14 = {'datasetID': 14, 'name': 'heart', 'contamination(%)': 45.54}\n",
    "datasets_basic.append(dataset14)\n",
    "dataset15 = {'datasetID': 15, 'name': 'arrhythmia', 'contamination(%)': 45.79}\n",
    "datasets_basic.append(dataset15)\n",
    "dataset16 = {'datasetID': 16, 'name': 'spambase', 'contamination(%)': 39.40}\n",
    "datasets_basic.append(dataset16)\n",
    "dataset17 = {'datasetID': 17, 'name': 'kc2', 'contamination(%)': 20.49}\n",
    "datasets_basic.append(dataset17)\n",
    "dataset18 = {'datasetID': 18, 'name': 'ilpd', 'contamination(%)': 28.64}\n",
    "datasets_basic.append(dataset18)\n",
    "dataset19 = {'datasetID': 19, 'name': 'pc1', 'contamination(%)': 6.94}\n",
    "datasets_basic.append(dataset19)\n",
    "dataset20 = {'datasetID': 20, 'name': 'abalone', 'contamination(%)': 0.43}\n",
    "datasets_basic.append(dataset20)\n",
    "dataset21 = {'datasetID': 21, 'name': 'speed_dating', 'contamination(%)': 16.47}\n",
    "datasets_basic.append(dataset21)\n",
    "dataset22 = {'datasetID': 22, 'name': 'cardiotocography', 'contamination(%)': 12.94}\n",
    "datasets_basic.append(dataset22)\n",
    "dataset23 = {'datasetID': 23, 'name': 'sick', 'contamination(%)': 6.12}\n",
    "datasets_basic.append(dataset23)\n",
    "dataset24 = {'datasetID': 24, 'name': 'adult', 'contamination(%)': 23.93}\n",
    "datasets_basic.append(dataset24)\n",
    "dataset25 = {'datasetID': 25, 'name': 'jm1', 'contamination(%)': 19.35}\n",
    "datasets_basic.append(dataset25)\n",
    "dataset26 = {'datasetID': 26, 'name': 'scene', 'contamination(%)': 17.91}\n",
    "datasets_basic.append(dataset26)\n",
    "dataset27 = {'datasetID': 27, 'name': 'climate_model_simulation_crashes', 'contamination(%)': 8.52}\n",
    "datasets_basic.append(dataset27)\n",
    "dataset28 = {'datasetID': 28, 'name': 'quake', 'contamination(%)': 44.49}\n",
    "datasets_basic.append(dataset28)\n",
    "dataset29 = {'datasetID': 29, 'name': 'yeast', 'contamination(%)': 0.34}\n",
    "datasets_basic.append(dataset29)\n",
    "dataset30 = {'datasetID': 30, 'name': 'churn', 'contamination(%)': 14.14}\n",
    "datasets_basic.append(dataset30)\n",
    "dataset31 = {'datasetID': 31, 'name': 'wilt', 'contamination(%)': 5.39}\n",
    "datasets_basic.append(dataset31)\n",
    "# datasets_basic"
   ]
  },
  {
   "cell_type": "code",
   "execution_count": 29,
   "metadata": {},
   "outputs": [
    {
     "data": {
      "text/html": [
       "<div>\n",
       "<style scoped>\n",
       "    .dataframe tbody tr th:only-of-type {\n",
       "        vertical-align: middle;\n",
       "    }\n",
       "\n",
       "    .dataframe tbody tr th {\n",
       "        vertical-align: top;\n",
       "    }\n",
       "\n",
       "    .dataframe thead th {\n",
       "        text-align: right;\n",
       "    }\n",
       "</style>\n",
       "<table border=\"1\" class=\"dataframe\">\n",
       "  <thead>\n",
       "    <tr style=\"text-align: right;\">\n",
       "      <th></th>\n",
       "      <th>datasetID</th>\n",
       "      <th>name</th>\n",
       "      <th>contamination(%)</th>\n",
       "    </tr>\n",
       "  </thead>\n",
       "  <tbody>\n",
       "    <tr>\n",
       "      <th>0</th>\n",
       "      <td>0</td>\n",
       "      <td>lymph</td>\n",
       "      <td>4.10</td>\n",
       "    </tr>\n",
       "    <tr>\n",
       "      <th>1</th>\n",
       "      <td>1</td>\n",
       "      <td>glass</td>\n",
       "      <td>4.21</td>\n",
       "    </tr>\n",
       "    <tr>\n",
       "      <th>2</th>\n",
       "      <td>2</td>\n",
       "      <td>wdbc</td>\n",
       "      <td>37.26</td>\n",
       "    </tr>\n",
       "    <tr>\n",
       "      <th>3</th>\n",
       "      <td>3</td>\n",
       "      <td>speech</td>\n",
       "      <td>1.65</td>\n",
       "    </tr>\n",
       "    <tr>\n",
       "      <th>4</th>\n",
       "      <td>4</td>\n",
       "      <td>satellite_image</td>\n",
       "      <td>31.64</td>\n",
       "    </tr>\n",
       "    <tr>\n",
       "      <th>5</th>\n",
       "      <td>5</td>\n",
       "      <td>baseball</td>\n",
       "      <td>9.33</td>\n",
       "    </tr>\n",
       "    <tr>\n",
       "      <th>6</th>\n",
       "      <td>6</td>\n",
       "      <td>ecoli</td>\n",
       "      <td>2.68</td>\n",
       "    </tr>\n",
       "    <tr>\n",
       "      <th>7</th>\n",
       "      <td>7</td>\n",
       "      <td>phoneme</td>\n",
       "      <td>29.35</td>\n",
       "    </tr>\n",
       "    <tr>\n",
       "      <th>8</th>\n",
       "      <td>8</td>\n",
       "      <td>click_prediction_small</td>\n",
       "      <td>16.84</td>\n",
       "    </tr>\n",
       "    <tr>\n",
       "      <th>9</th>\n",
       "      <td>9</td>\n",
       "      <td>musk</td>\n",
       "      <td>15.41</td>\n",
       "    </tr>\n",
       "    <tr>\n",
       "      <th>10</th>\n",
       "      <td>10</td>\n",
       "      <td>credit_g</td>\n",
       "      <td>30.00</td>\n",
       "    </tr>\n",
       "    <tr>\n",
       "      <th>11</th>\n",
       "      <td>11</td>\n",
       "      <td>diabetes</td>\n",
       "      <td>34.89</td>\n",
       "    </tr>\n",
       "    <tr>\n",
       "      <th>12</th>\n",
       "      <td>12</td>\n",
       "      <td>breast_w</td>\n",
       "      <td>34.48</td>\n",
       "    </tr>\n",
       "    <tr>\n",
       "      <th>13</th>\n",
       "      <td>13</td>\n",
       "      <td>blood_transfusion_service_center</td>\n",
       "      <td>23.79</td>\n",
       "    </tr>\n",
       "    <tr>\n",
       "      <th>14</th>\n",
       "      <td>14</td>\n",
       "      <td>heart</td>\n",
       "      <td>45.54</td>\n",
       "    </tr>\n",
       "    <tr>\n",
       "      <th>15</th>\n",
       "      <td>15</td>\n",
       "      <td>arrhythmia</td>\n",
       "      <td>45.79</td>\n",
       "    </tr>\n",
       "    <tr>\n",
       "      <th>16</th>\n",
       "      <td>16</td>\n",
       "      <td>spambase</td>\n",
       "      <td>39.40</td>\n",
       "    </tr>\n",
       "    <tr>\n",
       "      <th>17</th>\n",
       "      <td>17</td>\n",
       "      <td>kc2</td>\n",
       "      <td>20.49</td>\n",
       "    </tr>\n",
       "    <tr>\n",
       "      <th>18</th>\n",
       "      <td>18</td>\n",
       "      <td>ilpd</td>\n",
       "      <td>28.64</td>\n",
       "    </tr>\n",
       "    <tr>\n",
       "      <th>19</th>\n",
       "      <td>19</td>\n",
       "      <td>pc1</td>\n",
       "      <td>6.94</td>\n",
       "    </tr>\n",
       "    <tr>\n",
       "      <th>20</th>\n",
       "      <td>20</td>\n",
       "      <td>abalone</td>\n",
       "      <td>0.43</td>\n",
       "    </tr>\n",
       "    <tr>\n",
       "      <th>21</th>\n",
       "      <td>21</td>\n",
       "      <td>speed_dating</td>\n",
       "      <td>16.47</td>\n",
       "    </tr>\n",
       "    <tr>\n",
       "      <th>22</th>\n",
       "      <td>22</td>\n",
       "      <td>cardiotocography</td>\n",
       "      <td>12.94</td>\n",
       "    </tr>\n",
       "    <tr>\n",
       "      <th>23</th>\n",
       "      <td>23</td>\n",
       "      <td>sick</td>\n",
       "      <td>6.12</td>\n",
       "    </tr>\n",
       "    <tr>\n",
       "      <th>24</th>\n",
       "      <td>24</td>\n",
       "      <td>adult</td>\n",
       "      <td>23.93</td>\n",
       "    </tr>\n",
       "    <tr>\n",
       "      <th>25</th>\n",
       "      <td>25</td>\n",
       "      <td>jm1</td>\n",
       "      <td>19.35</td>\n",
       "    </tr>\n",
       "    <tr>\n",
       "      <th>26</th>\n",
       "      <td>26</td>\n",
       "      <td>scene</td>\n",
       "      <td>17.91</td>\n",
       "    </tr>\n",
       "    <tr>\n",
       "      <th>27</th>\n",
       "      <td>27</td>\n",
       "      <td>climate_model_simulation_crashes</td>\n",
       "      <td>8.52</td>\n",
       "    </tr>\n",
       "    <tr>\n",
       "      <th>28</th>\n",
       "      <td>28</td>\n",
       "      <td>quake</td>\n",
       "      <td>44.49</td>\n",
       "    </tr>\n",
       "    <tr>\n",
       "      <th>29</th>\n",
       "      <td>29</td>\n",
       "      <td>yeast</td>\n",
       "      <td>0.34</td>\n",
       "    </tr>\n",
       "    <tr>\n",
       "      <th>30</th>\n",
       "      <td>30</td>\n",
       "      <td>churn</td>\n",
       "      <td>14.14</td>\n",
       "    </tr>\n",
       "    <tr>\n",
       "      <th>31</th>\n",
       "      <td>31</td>\n",
       "      <td>wilt</td>\n",
       "      <td>5.39</td>\n",
       "    </tr>\n",
       "  </tbody>\n",
       "</table>\n",
       "</div>"
      ],
      "text/plain": [
       "    datasetID                              name  contamination(%)\n",
       "0           0                             lymph              4.10\n",
       "1           1                             glass              4.21\n",
       "2           2                              wdbc             37.26\n",
       "3           3                            speech              1.65\n",
       "4           4                   satellite_image             31.64\n",
       "5           5                          baseball              9.33\n",
       "6           6                             ecoli              2.68\n",
       "7           7                           phoneme             29.35\n",
       "8           8            click_prediction_small             16.84\n",
       "9           9                              musk             15.41\n",
       "10         10                          credit_g             30.00\n",
       "11         11                          diabetes             34.89\n",
       "12         12                          breast_w             34.48\n",
       "13         13  blood_transfusion_service_center             23.79\n",
       "14         14                             heart             45.54\n",
       "15         15                        arrhythmia             45.79\n",
       "16         16                          spambase             39.40\n",
       "17         17                               kc2             20.49\n",
       "18         18                              ilpd             28.64\n",
       "19         19                               pc1              6.94\n",
       "20         20                           abalone              0.43\n",
       "21         21                      speed_dating             16.47\n",
       "22         22                  cardiotocography             12.94\n",
       "23         23                              sick              6.12\n",
       "24         24                             adult             23.93\n",
       "25         25                               jm1             19.35\n",
       "26         26                             scene             17.91\n",
       "27         27  climate_model_simulation_crashes              8.52\n",
       "28         28                             quake             44.49\n",
       "29         29                             yeast              0.34\n",
       "30         30                             churn             14.14\n",
       "31         31                              wilt              5.39"
      ]
     },
     "execution_count": 29,
     "metadata": {},
     "output_type": "execute_result"
    }
   ],
   "source": [
    "# print basic table\n",
    "df_basic = pd.DataFrame(datasets_basic)\n",
    "cols_basic = ['datasetID', 'name', 'contamination(%)']\n",
    "df_basic = df_basic[cols_basic]\n",
    "df_basic"
   ]
  },
  {
   "cell_type": "markdown",
   "metadata": {},
   "source": [
    "### Compute Meta-Features Landmarking"
   ]
  },
  {
   "cell_type": "markdown",
   "metadata": {},
   "source": [
    "The following Landmarking meta-features were calculated: (Matthias Reif et al. 2012, Abdelmessih et al. 2010)\n",
    "\n",
    "The accuracy values of the following simple learners are used: Naive Bayes, Linear Discriminant Analysis, One-Nearest Neighbor, Decision Node, Random Node.\n",
    "\n",
    "- **Naive Bayes Learner** is a probabilistic classifier, based on Bayes’ Theorem:\n",
    "$$ p(X|Y) = \f",
    "rac{p(Y|X) \\cdot p(X)}{p(Y)} $$\n",
    "\n",
    "    where p(X) is the prior probability and p(X|Y) is the posterior probability. It is called naive, because it\n",
    "    assumes independence of all attributes to each other.\n",
    "- **Linear Discriminant Learner** is a type of discriminant analysis, which is understood as the grouping and separation of categories according to specific features. Linear discriminant is basically finding a linear combination of features that separates the classes best. The resulting separation model is a line, a plane, or a hyperplane, depending on the number of features combined. \n",
    "\n",
    "- **One Nearest Neighbor Learner** is a classifier based on instance-based learning. A test point is assigned to the class of the nearest point within the training set. \n",
    "\n",
    "- **Decision Node Learner** is a classifier based on the information gain of attributes. The information gain indicates how informative an attribute is with respect to the classification task using its entropy. The higher the variability of the attribute values, the higher its information gain. This learner selects the attribute with the highest information gain. Then, it creates a single node decision tree consisting of the chosen attribute as a split node. \n",
    "\n",
    "- **Randomly Chosen Node Learner** is a classifier that results also in a single decision node, based on a randomly chosen attribute. "
   ]
  },
  {
   "cell_type": "code",
   "execution_count": 30,
   "metadata": {
    "collapsed": true
   },
   "outputs": [],
   "source": [
    "from sklearn.cluster import KMeans\n",
    "from sklearn import metrics\n",
    "\n",
    "def compute_clustering_metafeatures(X):\n",
    "    kmeans_model = KMeans(n_clusters=2, random_state=1).fit(X)\n",
    "    labels = kmeans_model.labels_\n",
    "    silhouette_score = metrics.silhouette_score(X, labels, metric='euclidean')\n",
    "    calinski_harabaz_score = metrics.calinski_harabaz_score(X, labels)\n",
    "    davies_bouldin_score = metrics.davies_bouldin_score(X, labels)\n",
    "    return silhouette_score, calinski_harabaz_score, davies_bouldin_score"
   ]
  },
  {
   "cell_type": "code",
   "execution_count": 31,
   "metadata": {},
   "outputs": [],
   "source": [
    "from sklearn.model_selection import cross_val_predict\n",
    "from sklearn.metrics import roc_auc_score\n",
    "import time\n",
    "\n",
    "def pipeline(X, y, estimator):\n",
    "#     if scipy.sparse.issparse(X) == True: # Check if X is sparse array\n",
    "#         X = X.toarray()\n",
    "    start_time_pipeline = time.process_time()\n",
    "    pipe = Pipeline([('Imputer', preprocessing.Imputer(missing_values='NaN', strategy='mean', axis=0)),\n",
    "                     ('classifiers', estimator)])\n",
    "    \n",
    "    # to prevent sklearn cross_val_score failure due to label imabalance\n",
    "#     pred = cross_val_predict(pipe, X, y, cv=5)\n",
    "#     score = roc_auc_score(y, pred)\n",
    "    score = np.mean(cross_val_score(pipe, X, y, cv=10, scoring='accuracy', n_jobs=-1))\n",
    "    time_pipeline = time.process_time() - start_time_pipeline\n",
    "    return score, time_pipeline\n",
    "\n",
    "def compute_metafeatures(X, y):\n",
    "    \"\"\"\n",
    "    The following landmarking features are computed:\n",
    "        Naive Bayes Learner;\n",
    "        Linear Discriminant Learner;\n",
    "        One Nearest Neighbor Learner;\n",
    "        Decision Node Learner;\n",
    "        Randomly Chosen Node Learner\n",
    "    \"\"\"\n",
    "    \n",
    "    # if regression\n",
    "    if len(np.unique(y)) > 100 or len(np.unique(y)) > 0.1*y.shape[0]:\n",
    "        print(\"regression\")\n",
    "        print(\"meta features cannot be extracted as the target is not categorical\")\n",
    "    # if classification\n",
    "    else:\n",
    "#         print(\"classification\")\n",
    "        metafeatures_clf = {}\n",
    "        # compute clustering performance metafeatures\n",
    "        metafeatures_clf['silhouette'], metafeatures_clf['calinski_harabaz'], metafeatures_clf['davies_bouldin'] = compute_clustering_metafeatures(X)\n",
    "    \n",
    "        # compute landmarking metafeatures\n",
    "        metafeatures_clf['naive_bayes'], metafeatures_clf['naive_bayes_time'] = pipeline(X, y, GaussianNB()) \n",
    "        metafeatures_clf['linear_discriminant_analysis'], metafeatures_clf['linear_discriminant_analysis_time'] = pipeline(X, y, LinearDiscriminantAnalysis(solver='lsqr', shrinkage='auto')) \n",
    "        metafeatures_clf['one_nearest_neighbor'], metafeatures_clf['one_nearest_neighbor_time'] = pipeline(X, y, KNeighborsClassifier(n_neighbors = 1)) \n",
    "        metafeatures_clf['decision_node'], metafeatures_clf['decision_node_time'] = pipeline(X, y, DecisionTreeClassifier(criterion='entropy', splitter='best', max_depth=1, random_state=0)) \n",
    "        metafeatures_clf['random_node'], metafeatures_clf['random_node_time'] = pipeline(X, y, DecisionTreeClassifier(criterion='entropy', splitter='random', max_depth=1, random_state=0))\n",
    "        metafeatures = list(metafeatures_clf.values())\n",
    "    \n",
    "    return metafeatures"
   ]
  },
  {
   "cell_type": "markdown",
   "metadata": {},
   "source": [
    "### Evaluate outlier detection classifiers"
   ]
  },
  {
   "cell_type": "code",
   "execution_count": 32,
   "metadata": {
    "collapsed": true
   },
   "outputs": [],
   "source": [
    "from sklearn.metrics import f1_score\n",
    "def compute_isolation_forest_f1(X, ground_truth, contamination=0.1):\n",
    "    # isolation forest\n",
    "    isof = IsolationForest(contamination=contamination)\n",
    "    isof.fit(X)\n",
    "    y_pred = isof.predict(X)\n",
    "    isof_auroc = f1_score(ground_truth, y_pred)\n",
    "    return isof_auroc\n",
    "\n",
    "def compute_lof_f1(X, ground_truth, contamination=0.1):\n",
    "    # local outlier factor\n",
    "    lof = LocalOutlierFactor(n_neighbors=20, contamination=contamination)\n",
    "    y_pred = lof.fit_predict(X)\n",
    "    lof_auroc = f1_score(ground_truth, y_pred)\n",
    "    return lof_auroc\n",
    "\n",
    "def compute_ocsvm_f1(X, ground_truth, contamination=0.1):\n",
    "    # one class svm\n",
    "    ocsvm = svm.OneClassSVM(nu=0.95 * contamination + 0.05)\n",
    "    ocsvm.fit(X)\n",
    "    y_pred = ocsvm.predict(X)\n",
    "    ocsvm_auroc = f1_score(ground_truth, y_pred)\n",
    "    return ocsvm_auroc"
   ]
  },
  {
   "cell_type": "code",
   "execution_count": 33,
   "metadata": {
    "collapsed": true
   },
   "outputs": [],
   "source": [
    "def compute_info(datasets_basic=None, name=None):\n",
    "    dataset = next((item for item in datasets_basic if item['name'] == name), None).copy()\n",
    "    data = np.genfromtxt('benchmark_anomaly/'+ name + '.csv', delimiter=',')\n",
    "#     print(data)\n",
    "    # Imputing the missing values by mean\n",
    "    imp = Imputer(missing_values=np.nan , strategy='mean', axis=0)\n",
    "    \n",
    "    X = data[:, :-1]\n",
    "    X = imp.fit_transform(X)\n",
    "    y = data[:,-1]\n",
    "#     print(y)\n",
    "\n",
    "    dataset['metafeatures'] = compute_metafeatures(X, y)\n",
    "    \n",
    "    contamination = dataset['contamination(%)']/100\n",
    "#     print(contamination)\n",
    "    data_anomaly = np.genfromtxt('benchmark_anomaly/'+ name + '_anomaly.csv', delimiter=',')\n",
    "    X_anomaly = data_anomaly[:, :-1]\n",
    "    X_anomaly = imp.fit_transform(X_anomaly)\n",
    "    y_anomaly = data_anomaly[:,-1]\n",
    "    ground_truth = y_anomaly\n",
    "    ground_truth[y_anomaly == 1] = -1\n",
    "    ground_truth[y_anomaly == 0] = 1\n",
    "\n",
    "    dataset['isolation_forest_f1'] = compute_isolation_forest_f1(X_anomaly, ground_truth, contamination=contamination)\n",
    "    dataset['lof_f1'] = compute_lof_f1(X_anomaly, ground_truth, contamination=contamination)\n",
    "    dataset['ocsvm_f1'] = compute_ocsvm_f1(X_anomaly, ground_truth, contamination=contamination)\n",
    "    print(\"\\n\")\n",
    "    return dataset"
   ]
  },
  {
   "cell_type": "markdown",
   "metadata": {},
   "source": [
    "### Benchmarking"
   ]
  },
  {
   "cell_type": "code",
   "execution_count": 34,
   "metadata": {
    "collapsed": true
   },
   "outputs": [],
   "source": [
    "datasets=[]"
   ]
  },
  {
   "cell_type": "markdown",
   "metadata": {},
   "source": [
    "### 00 lymph"
   ]
  },
  {
   "cell_type": "code",
   "execution_count": 35,
   "metadata": {},
   "outputs": [
    {
     "name": "stdout",
     "output_type": "stream",
     "text": [
      "\n",
      "\n",
      "{'datasetID': 0, 'name': 'lymph', 'contamination(%)': 4.1, 'metafeatures': [0.26863786259667444, 61.30611403534003, 1.4806713339599, 0.7071230158730157, 0.0625, 0.8857142857142858, 0.03125, 0.7572817460317459, 0.0625, 0.6873809523809523, 0.0625, 0.6357936507936508, 0.046875], 'isolation_forest_f1': 0.9964664310954063, 'lof_f1': 0.9893992932862191, 'ocsvm_f1': 0.9264705882352942}\n"
     ]
    }
   ],
   "source": [
    "dataset = compute_info(datasets_basic, 'lymph')\n",
    "print(dataset)"
   ]
  },
  {
   "cell_type": "code",
   "execution_count": 36,
   "metadata": {
    "collapsed": true
   },
   "outputs": [],
   "source": [
    "datasets.append(dataset)"
   ]
  },
  {
   "cell_type": "markdown",
   "metadata": {},
   "source": [
    "### 01 glass"
   ]
  },
  {
   "cell_type": "code",
   "execution_count": 37,
   "metadata": {},
   "outputs": [
    {
     "name": "stdout",
     "output_type": "stream",
     "text": [
      "\n",
      "\n",
      "{'datasetID': 1, 'name': 'glass', 'contamination(%)': 4.21, 'metafeatures': [0.5600270501084725, 135.14002942901286, 1.0685748630031175, 0.459828722002635, 0.125, 0.6049174979609763, 0.09375, 0.7060016312190226, 0.0625, 0.4505646527385657, 0.0625, 0.43133226676704933, 0.0], 'isolation_forest_f1': 0.9609756097560975, 'lof_f1': 0.9658536585365853, 'ocsvm_f1': 0.935}\n"
     ]
    }
   ],
   "source": [
    "dataset = compute_info(datasets_basic, 'glass')\n",
    "print(dataset)"
   ]
  },
  {
   "cell_type": "code",
   "execution_count": 38,
   "metadata": {
    "collapsed": true
   },
   "outputs": [],
   "source": [
    "datasets.append(dataset)"
   ]
  },
  {
   "cell_type": "markdown",
   "metadata": {},
   "source": [
    "### 02 wdbc"
   ]
  },
  {
   "cell_type": "code",
   "execution_count": 39,
   "metadata": {},
   "outputs": [
    {
     "name": "stdout",
     "output_type": "stream",
     "text": [
      "\n",
      "\n",
      "{'datasetID': 2, 'name': 'wdbc', 'contamination(%)': 37.26, 'metafeatures': [0.6972646145068585, 1300.2082198691544, 0.5044035701177434, 0.9386796733212339, 0.0625, 0.9543805634776596, 0.109375, 0.9158067582749977, 0.0625, 0.8824075274392879, 0.0625, 0.808493215798116, 0.0625], 'isolation_forest_f1': 0.8039215686274509, 'lof_f1': 0.711484593837535, 'ocsvm_f1': 0.61731843575419}\n"
     ]
    }
   ],
   "source": [
    "dataset = compute_info(datasets_basic, 'wdbc')\n",
    "print(dataset)"
   ]
  },
  {
   "cell_type": "code",
   "execution_count": 40,
   "metadata": {
    "collapsed": true
   },
   "outputs": [],
   "source": [
    "datasets.append(dataset)"
   ]
  },
  {
   "cell_type": "markdown",
   "metadata": {},
   "source": [
    "### 03 speech"
   ]
  },
  {
   "cell_type": "code",
   "execution_count": 41,
   "metadata": {},
   "outputs": [
    {
     "name": "stdout",
     "output_type": "stream",
     "text": [
      "\n",
      "\n",
      "{'datasetID': 3, 'name': 'speech', 'contamination(%)': 1.65, 'metafeatures': [0.012400670667631054, 47.401319205311246, 8.69013370300987, 0.9631008911881127, 0.59375, 0.9763895974447406, 0.03125, 0.9826410623242545, 0.03125, 0.9834518691544144, 0.03125, 0.9834518691544144, 0.0625], 'isolation_forest_f1': 0.984, 'lof_f1': 0.9837241379310345, 'ocsvm_f1': 0.9589816124469589}\n"
     ]
    }
   ],
   "source": [
    "dataset = compute_info(datasets_basic, 'speech')\n",
    "print(dataset)"
   ]
  },
  {
   "cell_type": "code",
   "execution_count": 42,
   "metadata": {
    "collapsed": true
   },
   "outputs": [],
   "source": [
    "datasets.append(dataset)"
   ]
  },
  {
   "cell_type": "markdown",
   "metadata": {},
   "source": [
    "### 04 satellite_image"
   ]
  },
  {
   "cell_type": "code",
   "execution_count": 43,
   "metadata": {},
   "outputs": [
    {
     "name": "stdout",
     "output_type": "stream",
     "text": [
      "\n",
      "\n",
      "{'datasetID': 4, 'name': 'satellite_image', 'contamination(%)': 31.64, 'metafeatures': [0.36628000714210573, 3686.128256862358, 1.1209201105317794, 0.7878128466652179, 0.203125, 0.8296717347643972, 0.109375, 0.8828410109247423, 0.015625, 0.43574570897989107, 0.03125, 0.4282678047572393, 0.0625], 'isolation_forest_f1': 0.8092748351898159, 'lof_f1': 0.7087974539668106, 'ocsvm_f1': 0.4096881431059047}\n"
     ]
    }
   ],
   "source": [
    "dataset = compute_info(datasets_basic, 'satellite_image')\n",
    "print(dataset)"
   ]
  },
  {
   "cell_type": "code",
   "execution_count": 44,
   "metadata": {
    "collapsed": true
   },
   "outputs": [],
   "source": [
    "datasets.append(dataset)"
   ]
  },
  {
   "cell_type": "markdown",
   "metadata": {},
   "source": [
    "### 05 baseball"
   ]
  },
  {
   "cell_type": "code",
   "execution_count": 45,
   "metadata": {
    "scrolled": true
   },
   "outputs": [
    {
     "name": "stdout",
     "output_type": "stream",
     "text": [
      "\n",
      "\n",
      "{'datasetID': 5, 'name': 'baseball', 'contamination(%)': 9.33, 'metafeatures': [0.5309830472185297, 2219.3638242940983, 0.662929265026992, 0.8382204418025314, 0.0625, 0.9268990960742729, 0.078125, 0.9001154250015209, 0.109375, 0.9067596437195808, 0.046875, 0.9172139379052183, 0.0625], 'isolation_forest_f1': 0.9555555555555556, 'lof_f1': 0.9234567901234567, 'ocsvm_f1': 0.92790978654853}\n"
     ]
    }
   ],
   "source": [
    "dataset = compute_info(datasets_basic, 'baseball')\n",
    "print(dataset)"
   ]
  },
  {
   "cell_type": "code",
   "execution_count": 46,
   "metadata": {
    "collapsed": true
   },
   "outputs": [],
   "source": [
    "datasets.append(dataset)"
   ]
  },
  {
   "cell_type": "markdown",
   "metadata": {},
   "source": [
    "### 06 ecoli"
   ]
  },
  {
   "cell_type": "code",
   "execution_count": 47,
   "metadata": {},
   "outputs": [
    {
     "name": "stdout",
     "output_type": "stream",
     "text": [
      "\n",
      "\n",
      "{'datasetID': 6, 'name': 'ecoli', 'contamination(%)': 2.68, 'metafeatures': [0.4048955217168707, 235.3615336759734, 0.976230838456313, 0.7472514035325506, 0.046875, 0.8585529525902041, 0.0625, 0.8082291592358505, 0.0625, 0.632387298297927, 0.0625, 0.5538601692799361, 0.0625], 'isolation_forest_f1': 0.9847094801223242, 'lof_f1': 0.981651376146789, 'ocsvm_f1': 0.9592476489028213}\n"
     ]
    }
   ],
   "source": [
    "dataset = compute_info(datasets_basic, 'ecoli')\n",
    "print(dataset)"
   ]
  },
  {
   "cell_type": "code",
   "execution_count": 48,
   "metadata": {
    "collapsed": true
   },
   "outputs": [],
   "source": [
    "datasets.append(dataset)"
   ]
  },
  {
   "cell_type": "markdown",
   "metadata": {},
   "source": [
    "### 07 phoneme"
   ]
  },
  {
   "cell_type": "code",
   "execution_count": 49,
   "metadata": {},
   "outputs": [
    {
     "name": "stdout",
     "output_type": "stream",
     "text": [
      "\n",
      "\n",
      "{'datasetID': 7, 'name': 'phoneme', 'contamination(%)': 29.35, 'metafeatures': [0.2459127488478442, 1646.5528671540126, 1.6727604712530946, 0.7605367194395449, 0.015625, 0.7588796499200512, 0.03125, 0.9045141380736839, 0.015625, 0.7538882188921797, 0.015625, 0.7065142833772355, 0.015625], 'isolation_forest_f1': 0.7205343111576742, 'lof_f1': 0.7336301728653746, 'ocsvm_f1': 0.7040967092008059}\n"
     ]
    }
   ],
   "source": [
    "dataset = compute_info(datasets_basic, 'phoneme')\n",
    "print(dataset)"
   ]
  },
  {
   "cell_type": "code",
   "execution_count": 50,
   "metadata": {
    "collapsed": true
   },
   "outputs": [],
   "source": [
    "datasets.append(dataset)"
   ]
  },
  {
   "cell_type": "markdown",
   "metadata": {},
   "source": [
    "### 08 click_prediction_small"
   ]
  },
  {
   "cell_type": "code",
   "execution_count": 51,
   "metadata": {},
   "outputs": [
    {
     "name": "stdout",
     "output_type": "stream",
     "text": [
      "\n",
      "\n",
      "{'datasetID': 8, 'name': 'click_prediction_small', 'contamination(%)': 16.84, 'metafeatures': [0.6419363587593904, 58399.56773256083, 0.6464383405526942, 0.8099027765678555, 0.390625, 0.8315560261543755, 0.109375, 0.7328026019003474, 0.0625, 0.8315810637107101, 0.078125, 0.8315810637107101, 0.078125], 'isolation_forest_f1': 0.8352498494882601, 'lof_f1': 0.8329620710415412, 'ocsvm_f1': 0.8643935675722493}\n"
     ]
    }
   ],
   "source": [
    "dataset = compute_info(datasets_basic, 'click_prediction_small')\n",
    "print(dataset)"
   ]
  },
  {
   "cell_type": "code",
   "execution_count": 52,
   "metadata": {
    "collapsed": true
   },
   "outputs": [],
   "source": [
    "datasets.append(dataset)"
   ]
  },
  {
   "cell_type": "markdown",
   "metadata": {},
   "source": [
    "### 09 musk"
   ]
  },
  {
   "cell_type": "code",
   "execution_count": 53,
   "metadata": {},
   "outputs": [
    {
     "name": "stdout",
     "output_type": "stream",
     "text": [
      "\n",
      "\n",
      "{'datasetID': 9, 'name': 'musk', 'contamination(%)': 15.41, 'metafeatures': [0.29743199498855305, 2969.2237503160577, 1.3577113172661617, 0.8414119011459457, 0.40625, 0.9536296918760492, 0.0625, 0.7202186261523403, 0.03125, 0.9933232169954476, 0.03125, 0.8458628066806231, 0.015625], 'isolation_forest_f1': 0.8340799139939079, 'lof_f1': 0.844293137430568, 'ocsvm_f1': 0.7612288350400486}\n"
     ]
    }
   ],
   "source": [
    "dataset = compute_info(datasets_basic, 'musk')\n",
    "print(dataset)"
   ]
  },
  {
   "cell_type": "code",
   "execution_count": 54,
   "metadata": {
    "collapsed": true
   },
   "outputs": [],
   "source": [
    "datasets.append(dataset)"
   ]
  },
  {
   "cell_type": "markdown",
   "metadata": {},
   "source": [
    "### 10 credit_g"
   ]
  },
  {
   "cell_type": "code",
   "execution_count": 55,
   "metadata": {},
   "outputs": [
    {
     "name": "stdout",
     "output_type": "stream",
     "text": [
      "\n",
      "\n",
      "{'datasetID': 10, 'name': 'credit_g', 'contamination(%)': 30.0, 'metafeatures': [0.7222364097611819, 2304.593086778019, 0.49803987790561677, 0.7300000000000001, 0.03125, 0.76, 0.09375, 0.6060000000000001, 0.03125, 0.7, 0.0625, 0.7, 0.0625], 'isolation_forest_f1': 0.7257142857142859, 'lof_f1': 0.6857142857142857, 'ocsvm_f1': 0.6513409961685824}\n"
     ]
    }
   ],
   "source": [
    "dataset = compute_info(datasets_basic, 'credit_g')\n",
    "print(dataset)"
   ]
  },
  {
   "cell_type": "code",
   "execution_count": 56,
   "metadata": {
    "collapsed": true
   },
   "outputs": [],
   "source": [
    "datasets.append(dataset)"
   ]
  },
  {
   "cell_type": "markdown",
   "metadata": {},
   "source": [
    "### 11 diabetes"
   ]
  },
  {
   "cell_type": "code",
   "execution_count": 57,
   "metadata": {},
   "outputs": [
    {
     "name": "stdout",
     "output_type": "stream",
     "text": [
      "\n",
      "\n",
      "{'datasetID': 11, 'name': 'diabetes', 'contamination(%)': 34.89, 'metafeatures': [0.5687897206066522, 964.2725251674408, 0.7133822795351279, 0.7564935064935066, 0.03125, 0.765686944634313, 0.03125, 0.6796650717703349, 0.0625, 0.7149008885850991, 0.0625, 0.6328776486671224, 0.0625], 'isolation_forest_f1': 0.744, 'lof_f1': 0.662, 'ocsvm_f1': 0.6059979317476731}\n"
     ]
    }
   ],
   "source": [
    "dataset = compute_info(datasets_basic, 'diabetes')\n",
    "print(dataset)"
   ]
  },
  {
   "cell_type": "code",
   "execution_count": 58,
   "metadata": {
    "collapsed": true
   },
   "outputs": [],
   "source": [
    "datasets.append(dataset)"
   ]
  },
  {
   "cell_type": "markdown",
   "metadata": {},
   "source": [
    "### 12 breast_w"
   ]
  },
  {
   "cell_type": "code",
   "execution_count": 59,
   "metadata": {},
   "outputs": [
    {
     "name": "stdout",
     "output_type": "stream",
     "text": [
      "\n",
      "\n",
      "{'datasetID': 12, 'name': 'breast_w', 'contamination(%)': 34.48, 'metafeatures': [0.595130350704165, 1039.8866251008255, 0.7628477502434053, 0.9586501618406089, 0.0625, 0.9586909864987024, 0.046875, 0.9515268422126966, 0.0625, 0.924323622896801, 0.0625, 0.924323622896801, 0.0625], 'isolation_forest_f1': 0.9606986899563319, 'lof_f1': 0.5458515283842795, 'ocsvm_f1': 0.9046015712682379}\n"
     ]
    }
   ],
   "source": [
    "dataset = compute_info(datasets_basic, 'breast_w')\n",
    "print(dataset)"
   ]
  },
  {
   "cell_type": "code",
   "execution_count": 60,
   "metadata": {
    "collapsed": true
   },
   "outputs": [],
   "source": [
    "datasets.append(dataset)"
   ]
  },
  {
   "cell_type": "markdown",
   "metadata": {},
   "source": [
    "### 13 blood_transfusion_service_center"
   ]
  },
  {
   "cell_type": "code",
   "execution_count": 61,
   "metadata": {},
   "outputs": [
    {
     "name": "stdout",
     "output_type": "stream",
     "text": [
      "\n",
      "\n",
      "{'datasetID': 13, 'name': 'blood_transfusion_service_center', 'contamination(%)': 23.79, 'metafeatures': [0.7025413950356174, 1006.8074144957931, 0.5789658115737796, 0.7473513513513513, 0.0625, 0.7687207207207207, 0.0625, 0.569963963963964, 0.03125, 0.762054054054054, 0.046875, 0.762054054054054, 0.03125], 'isolation_forest_f1': 0.7736842105263158, 'lof_f1': 0.7637314734088927, 'ocsvm_f1': 0.6755102040816328}\n"
     ]
    }
   ],
   "source": [
    "dataset = compute_info(datasets_basic, 'blood_transfusion_service_center')\n",
    "print(dataset)"
   ]
  },
  {
   "cell_type": "code",
   "execution_count": 62,
   "metadata": {
    "collapsed": true
   },
   "outputs": [],
   "source": [
    "datasets.append(dataset)"
   ]
  },
  {
   "cell_type": "markdown",
   "metadata": {},
   "source": [
    "### 14 heart"
   ]
  },
  {
   "cell_type": "code",
   "execution_count": 63,
   "metadata": {},
   "outputs": [
    {
     "name": "stdout",
     "output_type": "stream",
     "text": [
      "\n",
      "\n",
      "{'datasetID': 14, 'name': 'heart', 'contamination(%)': 45.54, 'metafeatures': [0.3895016925056462, 240.76631323056972, 0.9675108708997435, 0.8178680014831293, 0.0625, 0.827982944011865, 0.046875, 0.591449758991472, 0.0625, 0.6859881349647757, 0.046875, 0.7315943641082685, 0.046875], 'isolation_forest_f1': 0.6242424242424243, 'lof_f1': 0.5636363636363636, 'ocsvm_f1': 0.5698005698005699}\n"
     ]
    }
   ],
   "source": [
    "dataset = compute_info(datasets_basic, 'heart')\n",
    "print(dataset)"
   ]
  },
  {
   "cell_type": "code",
   "execution_count": 64,
   "metadata": {
    "collapsed": true
   },
   "outputs": [],
   "source": [
    "datasets.append(dataset)"
   ]
  },
  {
   "cell_type": "markdown",
   "metadata": {},
   "source": [
    "### 15 arrhythmia\t"
   ]
  },
  {
   "cell_type": "code",
   "execution_count": 65,
   "metadata": {},
   "outputs": [
    {
     "name": "stdout",
     "output_type": "stream",
     "text": [
      "\n",
      "\n",
      "{'datasetID': 15, 'name': 'arrhythmia', 'contamination(%)': 45.79, 'metafeatures': [0.12655658623145472, 52.614660515883806, 2.6530367501611636, 0.16748182967615627, 0.203125, 0.7107932335427034, 0.25, 0.5256204965059684, 0.0625, 0.5556713638959132, 0.046875, 0.5772532357179758, 0.0625], 'isolation_forest_f1': 0.6979591836734694, 'lof_f1': 0.710204081632653, 'ocsvm_f1': 0.6371681415929205}\n"
     ]
    }
   ],
   "source": [
    "dataset = compute_info(datasets_basic, 'arrhythmia')\n",
    "print(dataset)"
   ]
  },
  {
   "cell_type": "code",
   "execution_count": 66,
   "metadata": {
    "collapsed": true
   },
   "outputs": [],
   "source": [
    "datasets.append(dataset)"
   ]
  },
  {
   "cell_type": "markdown",
   "metadata": {},
   "source": [
    "### 16 spambase"
   ]
  },
  {
   "cell_type": "code",
   "execution_count": 67,
   "metadata": {},
   "outputs": [
    {
     "name": "stdout",
     "output_type": "stream",
     "text": [
      "\n",
      "\n",
      "{'datasetID': 16, 'name': 'spambase', 'contamination(%)': 39.4, 'metafeatures': [0.8475319360835041, 4519.933422105306, 0.5855584148216163, 0.8216885343215848, 0.25, 0.8676362405756416, 0.203125, 0.787848669663722, 0.015625, 0.7730475836472476, 0.03125, 0.6059555892945166, 0.03125], 'isolation_forest_f1': 0.6761119081779053, 'lof_f1': 0.5831091984938139, 'ocsvm_f1': 0.6962745457882181}\n"
     ]
    }
   ],
   "source": [
    "dataset = compute_info(datasets_basic, 'spambase')\n",
    "print(dataset)"
   ]
  },
  {
   "cell_type": "code",
   "execution_count": 68,
   "metadata": {
    "collapsed": true
   },
   "outputs": [],
   "source": [
    "datasets.append(dataset)"
   ]
  },
  {
   "cell_type": "markdown",
   "metadata": {},
   "source": [
    "### 17 kc2"
   ]
  },
  {
   "cell_type": "code",
   "execution_count": 69,
   "metadata": {},
   "outputs": [
    {
     "name": "stdout",
     "output_type": "stream",
     "text": [
      "\n",
      "\n",
      "{'datasetID': 17, 'name': 'kc2', 'contamination(%)': 20.49, 'metafeatures': [0.9808012284453705, 1547.0821596373014, 0.44519022087226545, 0.8284612538774582, 0.03125, 0.8437035772218902, 0.0, 0.6036967472039615, 0.0625, 0.779772475027747, 0.0625, 0.8284975383477049, 0.0625], 'isolation_forest_f1': 0.891566265060241, 'lof_f1': 0.8158844765342961, 'ocsvm_f1': 0.7150684931506849}\n"
     ]
    }
   ],
   "source": [
    "dataset = compute_info(datasets_basic, 'kc2')\n",
    "print(dataset)"
   ]
  },
  {
   "cell_type": "code",
   "execution_count": 70,
   "metadata": {
    "collapsed": true
   },
   "outputs": [],
   "source": [
    "datasets.append(dataset)"
   ]
  },
  {
   "cell_type": "markdown",
   "metadata": {},
   "source": [
    "### 18 ilpd"
   ]
  },
  {
   "cell_type": "code",
   "execution_count": 71,
   "metadata": {},
   "outputs": [
    {
     "name": "stdout",
     "output_type": "stream",
     "text": [
      "\n",
      "\n",
      "{'datasetID': 18, 'name': 'ilpd', 'contamination(%)': 28.64, 'metafeatures': [0.8572549371115099, 349.4820464781444, 0.6562431307831165, 0.5581480000410143, 0.015625, 0.7102079424159463, 0.03125, 0.6414044315933024, 0.0625, 0.7135977729244208, 0.0625, 0.7135977729244208, 0.0625], 'isolation_forest_f1': 0.6634615384615384, 'lof_f1': 0.6610576923076923, 'ocsvm_f1': 0.6326797385620916}\n"
     ]
    }
   ],
   "source": [
    "dataset = compute_info(datasets_basic, 'ilpd')\n",
    "print(dataset)"
   ]
  },
  {
   "cell_type": "code",
   "execution_count": 72,
   "metadata": {
    "collapsed": true
   },
   "outputs": [],
   "source": [
    "datasets.append(dataset)"
   ]
  },
  {
   "cell_type": "markdown",
   "metadata": {},
   "source": [
    "### 19 pc1"
   ]
  },
  {
   "cell_type": "code",
   "execution_count": 73,
   "metadata": {},
   "outputs": [
    {
     "name": "stdout",
     "output_type": "stream",
     "text": [
      "\n",
      "\n",
      "{'datasetID': 19, 'name': 'pc1', 'contamination(%)': 6.94, 'metafeatures': [0.9877522554747115, 3328.677372028816, 0.23113785340253235, 0.8917911255411255, 0.109375, 0.9341346378846378, 0.03125, 0.8901114426114427, 0.109375, 0.9305873405873404, 0.0, 0.9305873405873404, 0.0625], 'isolation_forest_f1': 0.946705426356589, 'lof_f1': 0.935077519379845, 'ocsvm_f1': 0.6349206349206349}\n"
     ]
    }
   ],
   "source": [
    "dataset = compute_info(datasets_basic, 'pc1')\n",
    "print(dataset)"
   ]
  },
  {
   "cell_type": "code",
   "execution_count": 74,
   "metadata": {
    "collapsed": true
   },
   "outputs": [],
   "source": [
    "datasets.append(dataset)"
   ]
  },
  {
   "cell_type": "markdown",
   "metadata": {},
   "source": [
    "### 20 abalone"
   ]
  },
  {
   "cell_type": "code",
   "execution_count": 75,
   "metadata": {},
   "outputs": [
    {
     "name": "stdout",
     "output_type": "stream",
     "text": [
      "\n",
      "\n",
      "{'datasetID': 20, 'name': 'abalone', 'contamination(%)': 0.43, 'metafeatures': [0.5467584892393395, 6376.1190824749365, 0.6101756341028424, 0.23440718746259237, 0.171875, 0.2625402713501458, 0.234375, 0.20266392396374858, 0.09375, 0.2057422922867933, 0.078125, 0.20565524949290886, 0.015625], 'isolation_forest_f1': 0.9959124789612888, 'lof_f1': 0.9956720365472469, 'ocsvm_f1': 0.9709001233045622}\n"
     ]
    }
   ],
   "source": [
    "dataset = compute_info(datasets_basic, 'abalone')\n",
    "print(dataset)"
   ]
  },
  {
   "cell_type": "code",
   "execution_count": 76,
   "metadata": {
    "collapsed": true
   },
   "outputs": [],
   "source": [
    "datasets.append(dataset)"
   ]
  },
  {
   "cell_type": "markdown",
   "metadata": {},
   "source": [
    "### 21 speed_dating"
   ]
  },
  {
   "cell_type": "code",
   "execution_count": 77,
   "metadata": {},
   "outputs": [
    {
     "name": "stdout",
     "output_type": "stream",
     "text": [
      "\n",
      "\n",
      "{'datasetID': 21, 'name': 'speed_dating', 'contamination(%)': 16.47, 'metafeatures': [0.5392991912379833, 16224.455321839974, 0.6647590206856908, 0.7598620485139848, 0.15625, 0.8438764424598592, 0.046875, 0.6678343213488337, 0.03125, 0.8352828461689805, 0.03125, 0.8352828461689805, 0.046875], 'isolation_forest_f1': 0.8360960274364104, 'lof_f1': 0.8365247213489568, 'ocsvm_f1': 0.6107437267868466}\n"
     ]
    }
   ],
   "source": [
    "dataset = compute_info(datasets_basic, 'speed_dating')\n",
    "print(dataset)"
   ]
  },
  {
   "cell_type": "code",
   "execution_count": 78,
   "metadata": {
    "collapsed": true
   },
   "outputs": [],
   "source": [
    "datasets.append(dataset)"
   ]
  },
  {
   "cell_type": "markdown",
   "metadata": {},
   "source": [
    "### 22 cardiotocography"
   ]
  },
  {
   "cell_type": "code",
   "execution_count": 79,
   "metadata": {},
   "outputs": [
    {
     "name": "stdout",
     "output_type": "stream",
     "text": [
      "\n",
      "\n",
      "{'datasetID': 22, 'name': 'cardiotocography', 'contamination(%)': 12.94, 'metafeatures': [0.6698047866103679, 7297.726811254146, 0.47351817696858717, 0.9995283018867924, 0.109375, 0.999052111410602, 0.203125, 0.3706101721418026, 0.125, 0.4530135875359765, 0.03125, 0.4530135875359765, 0.03125], 'isolation_forest_f1': 0.8984332793084819, 'lof_f1': 0.8843868179362506, 'ocsvm_f1': 0.7411104179663133}\n"
     ]
    }
   ],
   "source": [
    "dataset = compute_info(datasets_basic, 'cardiotocography')\n",
    "print(dataset)"
   ]
  },
  {
   "cell_type": "code",
   "execution_count": 80,
   "metadata": {
    "collapsed": true
   },
   "outputs": [],
   "source": [
    "datasets.append(dataset)"
   ]
  },
  {
   "cell_type": "markdown",
   "metadata": {},
   "source": [
    "### 23 sick"
   ]
  },
  {
   "cell_type": "code",
   "execution_count": 81,
   "metadata": {},
   "outputs": [
    {
     "name": "stdout",
     "output_type": "stream",
     "text": [
      "\n",
      "\n",
      "{'datasetID': 23, 'name': 'sick', 'contamination(%)': 6.12, 'metafeatures': [0.39559167198546236, 1720.344902225193, 1.025165385016438, 0.41410944619023954, 0.1875, 0.954667105253949, 0.21875, 0.908266203817109, 0.125, 0.9655382375789981, 0.03125, 0.9387603843704291, 0.03125], 'isolation_forest_f1': 0.9375882519062412, 'lof_f1': 0.9423891556057611, 'ocsvm_f1': 0.7810122394971881}\n"
     ]
    }
   ],
   "source": [
    "dataset = compute_info(datasets_basic, 'sick')\n",
    "print(dataset)"
   ]
  },
  {
   "cell_type": "code",
   "execution_count": 82,
   "metadata": {
    "collapsed": true
   },
   "outputs": [],
   "source": [
    "datasets.append(dataset)"
   ]
  },
  {
   "cell_type": "markdown",
   "metadata": {},
   "source": [
    "### 24 adult"
   ]
  },
  {
   "cell_type": "code",
   "execution_count": 83,
   "metadata": {},
   "outputs": [
    {
     "name": "stdout",
     "output_type": "stream",
     "text": [
      "\n",
      "\n",
      "{'datasetID': 24, 'name': 'adult', 'contamination(%)': 23.93, 'metafeatures': [0.5842257305055926, 69093.34966915922, 0.6104682039477688, 0.7952380584336447, 0.5, 0.8279558426270286, 0.078125, 0.740653915828182, 0.09375, 0.7607182417754828, 0.140625, 0.7607182417754828, 0.078125], 'isolation_forest_f1': 0.7576471221520945, 'lof_f1': 0.762976220915367, 'ocsvm_f1': 0.6868543769553155}\n"
     ]
    }
   ],
   "source": [
    "dataset = compute_info(datasets_basic, 'adult')\n",
    "print(dataset)"
   ]
  },
  {
   "cell_type": "code",
   "execution_count": 84,
   "metadata": {
    "collapsed": true
   },
   "outputs": [],
   "source": [
    "datasets.append(dataset)"
   ]
  },
  {
   "cell_type": "markdown",
   "metadata": {},
   "source": [
    "### 25 jm1"
   ]
  },
  {
   "cell_type": "code",
   "execution_count": 85,
   "metadata": {},
   "outputs": [
    {
     "name": "stdout",
     "output_type": "stream",
     "text": [
      "\n",
      "\n",
      "{'datasetID': 25, 'name': 'jm1', 'contamination(%)': 19.35, 'metafeatures': [0.9957037328869507, 24559.20704734215, 0.4043211239910511, 0.8043280130459559, 0.359375, 0.8091978209443166, 0.015625, 0.7095105835242903, 0.03125, 0.8065229174782125, 0.03125, 0.8012887576985982, 0.03125], 'isolation_forest_f1': 0.8540183402631429, 'lof_f1': 0.8048071994076437, 'ocsvm_f1': 0.6761778367617783}\n"
     ]
    }
   ],
   "source": [
    "dataset = compute_info(datasets_basic, 'jm1')\n",
    "print(dataset)"
   ]
  },
  {
   "cell_type": "code",
   "execution_count": 86,
   "metadata": {
    "collapsed": true
   },
   "outputs": [],
   "source": [
    "datasets.append(dataset)"
   ]
  },
  {
   "cell_type": "markdown",
   "metadata": {},
   "source": [
    "### 26 scene"
   ]
  },
  {
   "cell_type": "code",
   "execution_count": 87,
   "metadata": {},
   "outputs": [
    {
     "name": "stdout",
     "output_type": "stream",
     "text": [
      "\n",
      "\n",
      "{'datasetID': 26, 'name': 'scene', 'contamination(%)': 17.91, 'metafeatures': [0.16394326630552236, 367.9771642687542, 2.347211165974487, 0.8486876736051574, 0.28125, 0.977164420515986, 0.015625, 0.905749745664872, 0.046875, 0.8209398968942537, 0.046875, 0.8209398968942537, 0.03125], 'isolation_forest_f1': 0.7955465587044535, 'lof_f1': 0.8183198380566801, 'ocsvm_f1': 0.77466251298027}\n"
     ]
    }
   ],
   "source": [
    "dataset = compute_info(datasets_basic, 'scene')\n",
    "print(dataset)"
   ]
  },
  {
   "cell_type": "code",
   "execution_count": 88,
   "metadata": {
    "collapsed": true
   },
   "outputs": [],
   "source": [
    "datasets.append(dataset)"
   ]
  },
  {
   "cell_type": "markdown",
   "metadata": {},
   "source": [
    "### 27 climate_model_simulation_crashes"
   ]
  },
  {
   "cell_type": "code",
   "execution_count": 89,
   "metadata": {},
   "outputs": [
    {
     "name": "stdout",
     "output_type": "stream",
     "text": [
      "\n",
      "\n",
      "{'datasetID': 27, 'name': 'climate_model_simulation_crashes', 'contamination(%)': 8.52, 'metafeatures': [0.5410542319474954, 1118.4723802507572, 0.6449264406465076, 0.8926681913474367, 0.046875, 0.9111219109332318, 0.0625, 0.8463229782097708, 0.0625, 0.914929165872562, 0.109375, 0.914929165872562, 0.03125], 'isolation_forest_f1': 0.917004048582996, 'lof_f1': 0.9109311740890689, 'ocsvm_f1': 0.5511363636363636}\n"
     ]
    }
   ],
   "source": [
    "dataset = compute_info(datasets_basic, 'climate_model_simulation_crashes')\n",
    "print(dataset)"
   ]
  },
  {
   "cell_type": "code",
   "execution_count": 90,
   "metadata": {
    "collapsed": true
   },
   "outputs": [],
   "source": [
    "datasets.append(dataset)"
   ]
  },
  {
   "cell_type": "markdown",
   "metadata": {},
   "source": [
    "### 28 quake"
   ]
  },
  {
   "cell_type": "code",
   "execution_count": 93,
   "metadata": {},
   "outputs": [
    {
     "name": "stdout",
     "output_type": "stream",
     "text": [
      "\n",
      "\n",
      "{'datasetID': 28, 'name': 'quake', 'contamination(%)': 44.49, 'metafeatures': [0.5668926666306254, 1656.9576500860678, 0.7745065167917251, 0.5555470608222901, 0.046875, 0.5592167855929324, 0.046875, 0.5170234454638125, 0.0625, 0.5541794087665648, 0.0625, 0.5537164458036017, 0.0625], 'isolation_forest_f1': 0.5690653432588917, 'lof_f1': 0.5566583953680728, 'ocsvm_f1': 0.5004484304932736}\n"
     ]
    }
   ],
   "source": [
    "dataset = compute_info(datasets_basic, 'quake')\n",
    "print(dataset)"
   ]
  },
  {
   "cell_type": "code",
   "execution_count": 94,
   "metadata": {
    "collapsed": true
   },
   "outputs": [],
   "source": [
    "datasets.append(dataset)"
   ]
  },
  {
   "cell_type": "markdown",
   "metadata": {},
   "source": [
    "### 29 yeast"
   ]
  },
  {
   "cell_type": "code",
   "execution_count": 95,
   "metadata": {},
   "outputs": [
    {
     "name": "stdout",
     "output_type": "stream",
     "text": [
      "\n",
      "\n",
      "{'datasetID': 29, 'name': 'yeast', 'contamination(%)': 0.34, 'metafeatures': [0.26404231937993805, 427.5565911760813, 1.6007035295724215, 0.1415132588916947, 0.046875, 0.5794285405806632, 0.0625, 0.48440540976416485, 0.109375, 0.40710800836168604, 0.078125, 0.3684088915543856, 0.0625], 'isolation_forest_f1': 0.9976327358809605, 'lof_f1': 0.9962800135272236, 'ocsvm_f1': 0.9739854318418314}\n"
     ]
    }
   ],
   "source": [
    "dataset = compute_info(datasets_basic, 'yeast')\n",
    "print(dataset)"
   ]
  },
  {
   "cell_type": "code",
   "execution_count": 96,
   "metadata": {
    "collapsed": true
   },
   "outputs": [],
   "source": [
    "datasets.append(dataset)"
   ]
  },
  {
   "cell_type": "markdown",
   "metadata": {},
   "source": [
    "### 30 churn"
   ]
  },
  {
   "cell_type": "code",
   "execution_count": 97,
   "metadata": {},
   "outputs": [
    {
     "name": "stdout",
     "output_type": "stream",
     "text": [
      "\n",
      "\n",
      "{'datasetID': 30, 'name': 'churn', 'contamination(%)': 14.14, 'metafeatures': [0.6166327343906929, 14675.657079943683, 0.5128919907945317, 0.8728044864179456, 0.171875, 0.8594024584098336, 0.265625, 0.8051959495837984, 0.1875, 0.8570104648418594, 0.03125, 0.8586008616034464, 0.03125], 'isolation_forest_f1': 0.8739808991381317, 'lof_f1': 0.872816212438854, 'ocsvm_f1': 0.80332135332755}\n"
     ]
    }
   ],
   "source": [
    "dataset = compute_info(datasets_basic, 'churn')\n",
    "print(dataset)"
   ]
  },
  {
   "cell_type": "code",
   "execution_count": 98,
   "metadata": {
    "collapsed": true
   },
   "outputs": [],
   "source": [
    "datasets.append(dataset)"
   ]
  },
  {
   "cell_type": "markdown",
   "metadata": {},
   "source": [
    "### 31 wilt"
   ]
  },
  {
   "cell_type": "code",
   "execution_count": 99,
   "metadata": {},
   "outputs": [
    {
     "name": "stdout",
     "output_type": "stream",
     "text": [
      "\n",
      "\n",
      "{'datasetID': 31, 'name': 'wilt', 'contamination(%)': 5.39, 'metafeatures': [0.48431902732162724, 4892.457139820039, 0.757113142258182, 0.8886251552530433, 0.03125, 0.9431650876323058, 0.03125, 0.978293365762499, 0.015625, 0.9460636383569435, 0.015625, 0.9460636383569435, 0.03125], 'isolation_forest_f1': 0.9434250764525994, 'lof_f1': 0.9477937964176496, 'ocsvm_f1': 0.7407407407407409}\n"
     ]
    }
   ],
   "source": [
    "dataset = compute_info(datasets_basic, 'wilt')\n",
    "print(dataset)"
   ]
  },
  {
   "cell_type": "code",
   "execution_count": 100,
   "metadata": {
    "collapsed": true
   },
   "outputs": [],
   "source": [
    "datasets.append(dataset)"
   ]
  },
  {
   "cell_type": "markdown",
   "metadata": {},
   "source": [
    "### print computed table"
   ]
  },
  {
   "cell_type": "code",
   "execution_count": 101,
   "metadata": {},
   "outputs": [
    {
     "data": {
      "text/html": [
       "<div>\n",
       "<style scoped>\n",
       "    .dataframe tbody tr th:only-of-type {\n",
       "        vertical-align: middle;\n",
       "    }\n",
       "\n",
       "    .dataframe tbody tr th {\n",
       "        vertical-align: top;\n",
       "    }\n",
       "\n",
       "    .dataframe thead th {\n",
       "        text-align: right;\n",
       "    }\n",
       "</style>\n",
       "<table border=\"1\" class=\"dataframe\">\n",
       "  <thead>\n",
       "    <tr style=\"text-align: right;\">\n",
       "      <th></th>\n",
       "      <th>datasetID</th>\n",
       "      <th>name</th>\n",
       "      <th>contamination(%)</th>\n",
       "      <th>metafeatures</th>\n",
       "      <th>isolation_forest_f1</th>\n",
       "      <th>lof_f1</th>\n",
       "      <th>ocsvm_f1</th>\n",
       "    </tr>\n",
       "  </thead>\n",
       "  <tbody>\n",
       "    <tr>\n",
       "      <th>0</th>\n",
       "      <td>0</td>\n",
       "      <td>lymph</td>\n",
       "      <td>4.10</td>\n",
       "      <td>[0.26863786259667444, 61.30611403534003, 1.480...</td>\n",
       "      <td>0.996466</td>\n",
       "      <td>0.989399</td>\n",
       "      <td>0.926471</td>\n",
       "    </tr>\n",
       "    <tr>\n",
       "      <th>1</th>\n",
       "      <td>1</td>\n",
       "      <td>glass</td>\n",
       "      <td>4.21</td>\n",
       "      <td>[0.5600270501084725, 135.14002942901286, 1.068...</td>\n",
       "      <td>0.960976</td>\n",
       "      <td>0.965854</td>\n",
       "      <td>0.935000</td>\n",
       "    </tr>\n",
       "    <tr>\n",
       "      <th>2</th>\n",
       "      <td>2</td>\n",
       "      <td>wdbc</td>\n",
       "      <td>37.26</td>\n",
       "      <td>[0.6972646145068585, 1300.2082198691544, 0.504...</td>\n",
       "      <td>0.803922</td>\n",
       "      <td>0.711485</td>\n",
       "      <td>0.617318</td>\n",
       "    </tr>\n",
       "    <tr>\n",
       "      <th>3</th>\n",
       "      <td>3</td>\n",
       "      <td>speech</td>\n",
       "      <td>1.65</td>\n",
       "      <td>[0.012400670667631054, 47.401319205311246, 8.6...</td>\n",
       "      <td>0.984000</td>\n",
       "      <td>0.983724</td>\n",
       "      <td>0.958982</td>\n",
       "    </tr>\n",
       "    <tr>\n",
       "      <th>4</th>\n",
       "      <td>4</td>\n",
       "      <td>satellite_image</td>\n",
       "      <td>31.64</td>\n",
       "      <td>[0.36628000714210573, 3686.128256862358, 1.120...</td>\n",
       "      <td>0.809275</td>\n",
       "      <td>0.708797</td>\n",
       "      <td>0.409688</td>\n",
       "    </tr>\n",
       "    <tr>\n",
       "      <th>5</th>\n",
       "      <td>5</td>\n",
       "      <td>baseball</td>\n",
       "      <td>9.33</td>\n",
       "      <td>[0.5309830472185297, 2219.3638242940983, 0.662...</td>\n",
       "      <td>0.955556</td>\n",
       "      <td>0.923457</td>\n",
       "      <td>0.927910</td>\n",
       "    </tr>\n",
       "    <tr>\n",
       "      <th>6</th>\n",
       "      <td>6</td>\n",
       "      <td>ecoli</td>\n",
       "      <td>2.68</td>\n",
       "      <td>[0.4048955217168707, 235.3615336759734, 0.9762...</td>\n",
       "      <td>0.984709</td>\n",
       "      <td>0.981651</td>\n",
       "      <td>0.959248</td>\n",
       "    </tr>\n",
       "    <tr>\n",
       "      <th>7</th>\n",
       "      <td>7</td>\n",
       "      <td>phoneme</td>\n",
       "      <td>29.35</td>\n",
       "      <td>[0.2459127488478442, 1646.5528671540126, 1.672...</td>\n",
       "      <td>0.720534</td>\n",
       "      <td>0.733630</td>\n",
       "      <td>0.704097</td>\n",
       "    </tr>\n",
       "    <tr>\n",
       "      <th>8</th>\n",
       "      <td>8</td>\n",
       "      <td>click_prediction_small</td>\n",
       "      <td>16.84</td>\n",
       "      <td>[0.6419363587593904, 58399.56773256083, 0.6464...</td>\n",
       "      <td>0.835250</td>\n",
       "      <td>0.832962</td>\n",
       "      <td>0.864394</td>\n",
       "    </tr>\n",
       "    <tr>\n",
       "      <th>9</th>\n",
       "      <td>9</td>\n",
       "      <td>musk</td>\n",
       "      <td>15.41</td>\n",
       "      <td>[0.29743199498855305, 2969.2237503160577, 1.35...</td>\n",
       "      <td>0.834080</td>\n",
       "      <td>0.844293</td>\n",
       "      <td>0.761229</td>\n",
       "    </tr>\n",
       "    <tr>\n",
       "      <th>10</th>\n",
       "      <td>10</td>\n",
       "      <td>credit_g</td>\n",
       "      <td>30.00</td>\n",
       "      <td>[0.7222364097611819, 2304.593086778019, 0.4980...</td>\n",
       "      <td>0.725714</td>\n",
       "      <td>0.685714</td>\n",
       "      <td>0.651341</td>\n",
       "    </tr>\n",
       "    <tr>\n",
       "      <th>11</th>\n",
       "      <td>11</td>\n",
       "      <td>diabetes</td>\n",
       "      <td>34.89</td>\n",
       "      <td>[0.5687897206066522, 964.2725251674408, 0.7133...</td>\n",
       "      <td>0.744000</td>\n",
       "      <td>0.662000</td>\n",
       "      <td>0.605998</td>\n",
       "    </tr>\n",
       "    <tr>\n",
       "      <th>12</th>\n",
       "      <td>12</td>\n",
       "      <td>breast_w</td>\n",
       "      <td>34.48</td>\n",
       "      <td>[0.595130350704165, 1039.8866251008255, 0.7628...</td>\n",
       "      <td>0.960699</td>\n",
       "      <td>0.545852</td>\n",
       "      <td>0.904602</td>\n",
       "    </tr>\n",
       "    <tr>\n",
       "      <th>13</th>\n",
       "      <td>13</td>\n",
       "      <td>blood_transfusion_service_center</td>\n",
       "      <td>23.79</td>\n",
       "      <td>[0.7025413950356174, 1006.8074144957931, 0.578...</td>\n",
       "      <td>0.773684</td>\n",
       "      <td>0.763731</td>\n",
       "      <td>0.675510</td>\n",
       "    </tr>\n",
       "    <tr>\n",
       "      <th>14</th>\n",
       "      <td>14</td>\n",
       "      <td>heart</td>\n",
       "      <td>45.54</td>\n",
       "      <td>[0.3895016925056462, 240.76631323056972, 0.967...</td>\n",
       "      <td>0.624242</td>\n",
       "      <td>0.563636</td>\n",
       "      <td>0.569801</td>\n",
       "    </tr>\n",
       "    <tr>\n",
       "      <th>15</th>\n",
       "      <td>15</td>\n",
       "      <td>arrhythmia</td>\n",
       "      <td>45.79</td>\n",
       "      <td>[0.12655658623145472, 52.614660515883806, 2.65...</td>\n",
       "      <td>0.697959</td>\n",
       "      <td>0.710204</td>\n",
       "      <td>0.637168</td>\n",
       "    </tr>\n",
       "    <tr>\n",
       "      <th>16</th>\n",
       "      <td>16</td>\n",
       "      <td>spambase</td>\n",
       "      <td>39.40</td>\n",
       "      <td>[0.8475319360835041, 4519.933422105306, 0.5855...</td>\n",
       "      <td>0.676112</td>\n",
       "      <td>0.583109</td>\n",
       "      <td>0.696275</td>\n",
       "    </tr>\n",
       "    <tr>\n",
       "      <th>17</th>\n",
       "      <td>17</td>\n",
       "      <td>kc2</td>\n",
       "      <td>20.49</td>\n",
       "      <td>[0.9808012284453705, 1547.0821596373014, 0.445...</td>\n",
       "      <td>0.891566</td>\n",
       "      <td>0.815884</td>\n",
       "      <td>0.715068</td>\n",
       "    </tr>\n",
       "    <tr>\n",
       "      <th>18</th>\n",
       "      <td>18</td>\n",
       "      <td>ilpd</td>\n",
       "      <td>28.64</td>\n",
       "      <td>[0.8572549371115099, 349.4820464781444, 0.6562...</td>\n",
       "      <td>0.663462</td>\n",
       "      <td>0.661058</td>\n",
       "      <td>0.632680</td>\n",
       "    </tr>\n",
       "    <tr>\n",
       "      <th>19</th>\n",
       "      <td>19</td>\n",
       "      <td>pc1</td>\n",
       "      <td>6.94</td>\n",
       "      <td>[0.9877522554747115, 3328.677372028816, 0.2311...</td>\n",
       "      <td>0.946705</td>\n",
       "      <td>0.935078</td>\n",
       "      <td>0.634921</td>\n",
       "    </tr>\n",
       "    <tr>\n",
       "      <th>20</th>\n",
       "      <td>20</td>\n",
       "      <td>abalone</td>\n",
       "      <td>0.43</td>\n",
       "      <td>[0.5467584892393395, 6376.1190824749365, 0.610...</td>\n",
       "      <td>0.995912</td>\n",
       "      <td>0.995672</td>\n",
       "      <td>0.970900</td>\n",
       "    </tr>\n",
       "    <tr>\n",
       "      <th>21</th>\n",
       "      <td>21</td>\n",
       "      <td>speed_dating</td>\n",
       "      <td>16.47</td>\n",
       "      <td>[0.5392991912379833, 16224.455321839974, 0.664...</td>\n",
       "      <td>0.836096</td>\n",
       "      <td>0.836525</td>\n",
       "      <td>0.610744</td>\n",
       "    </tr>\n",
       "    <tr>\n",
       "      <th>22</th>\n",
       "      <td>22</td>\n",
       "      <td>cardiotocography</td>\n",
       "      <td>12.94</td>\n",
       "      <td>[0.6698047866103679, 7297.726811254146, 0.4735...</td>\n",
       "      <td>0.898433</td>\n",
       "      <td>0.884387</td>\n",
       "      <td>0.741110</td>\n",
       "    </tr>\n",
       "    <tr>\n",
       "      <th>23</th>\n",
       "      <td>23</td>\n",
       "      <td>sick</td>\n",
       "      <td>6.12</td>\n",
       "      <td>[0.39559167198546236, 1720.344902225193, 1.025...</td>\n",
       "      <td>0.937588</td>\n",
       "      <td>0.942389</td>\n",
       "      <td>0.781012</td>\n",
       "    </tr>\n",
       "    <tr>\n",
       "      <th>24</th>\n",
       "      <td>24</td>\n",
       "      <td>adult</td>\n",
       "      <td>23.93</td>\n",
       "      <td>[0.5842257305055926, 69093.34966915922, 0.6104...</td>\n",
       "      <td>0.757647</td>\n",
       "      <td>0.762976</td>\n",
       "      <td>0.686854</td>\n",
       "    </tr>\n",
       "    <tr>\n",
       "      <th>25</th>\n",
       "      <td>25</td>\n",
       "      <td>jm1</td>\n",
       "      <td>19.35</td>\n",
       "      <td>[0.9957037328869507, 24559.20704734215, 0.4043...</td>\n",
       "      <td>0.854018</td>\n",
       "      <td>0.804807</td>\n",
       "      <td>0.676178</td>\n",
       "    </tr>\n",
       "    <tr>\n",
       "      <th>26</th>\n",
       "      <td>26</td>\n",
       "      <td>scene</td>\n",
       "      <td>17.91</td>\n",
       "      <td>[0.16394326630552236, 367.9771642687542, 2.347...</td>\n",
       "      <td>0.795547</td>\n",
       "      <td>0.818320</td>\n",
       "      <td>0.774663</td>\n",
       "    </tr>\n",
       "    <tr>\n",
       "      <th>27</th>\n",
       "      <td>27</td>\n",
       "      <td>climate_model_simulation_crashes</td>\n",
       "      <td>8.52</td>\n",
       "      <td>[0.5410542319474954, 1118.4723802507572, 0.644...</td>\n",
       "      <td>0.917004</td>\n",
       "      <td>0.910931</td>\n",
       "      <td>0.551136</td>\n",
       "    </tr>\n",
       "    <tr>\n",
       "      <th>28</th>\n",
       "      <td>28</td>\n",
       "      <td>quake</td>\n",
       "      <td>44.49</td>\n",
       "      <td>[0.5668926666306254, 1656.9576500860678, 0.774...</td>\n",
       "      <td>0.569065</td>\n",
       "      <td>0.556658</td>\n",
       "      <td>0.500448</td>\n",
       "    </tr>\n",
       "    <tr>\n",
       "      <th>29</th>\n",
       "      <td>29</td>\n",
       "      <td>yeast</td>\n",
       "      <td>0.34</td>\n",
       "      <td>[0.26404231937993805, 427.5565911760813, 1.600...</td>\n",
       "      <td>0.997633</td>\n",
       "      <td>0.996280</td>\n",
       "      <td>0.973985</td>\n",
       "    </tr>\n",
       "    <tr>\n",
       "      <th>30</th>\n",
       "      <td>30</td>\n",
       "      <td>churn</td>\n",
       "      <td>14.14</td>\n",
       "      <td>[0.6166327343906929, 14675.657079943683, 0.512...</td>\n",
       "      <td>0.873981</td>\n",
       "      <td>0.872816</td>\n",
       "      <td>0.803321</td>\n",
       "    </tr>\n",
       "    <tr>\n",
       "      <th>31</th>\n",
       "      <td>31</td>\n",
       "      <td>wilt</td>\n",
       "      <td>5.39</td>\n",
       "      <td>[0.48431902732162724, 4892.457139820039, 0.757...</td>\n",
       "      <td>0.943425</td>\n",
       "      <td>0.947794</td>\n",
       "      <td>0.740741</td>\n",
       "    </tr>\n",
       "  </tbody>\n",
       "</table>\n",
       "</div>"
      ],
      "text/plain": [
       "    datasetID                              name  contamination(%)  \\\n",
       "0           0                             lymph              4.10   \n",
       "1           1                             glass              4.21   \n",
       "2           2                              wdbc             37.26   \n",
       "3           3                            speech              1.65   \n",
       "4           4                   satellite_image             31.64   \n",
       "5           5                          baseball              9.33   \n",
       "6           6                             ecoli              2.68   \n",
       "7           7                           phoneme             29.35   \n",
       "8           8            click_prediction_small             16.84   \n",
       "9           9                              musk             15.41   \n",
       "10         10                          credit_g             30.00   \n",
       "11         11                          diabetes             34.89   \n",
       "12         12                          breast_w             34.48   \n",
       "13         13  blood_transfusion_service_center             23.79   \n",
       "14         14                             heart             45.54   \n",
       "15         15                        arrhythmia             45.79   \n",
       "16         16                          spambase             39.40   \n",
       "17         17                               kc2             20.49   \n",
       "18         18                              ilpd             28.64   \n",
       "19         19                               pc1              6.94   \n",
       "20         20                           abalone              0.43   \n",
       "21         21                      speed_dating             16.47   \n",
       "22         22                  cardiotocography             12.94   \n",
       "23         23                              sick              6.12   \n",
       "24         24                             adult             23.93   \n",
       "25         25                               jm1             19.35   \n",
       "26         26                             scene             17.91   \n",
       "27         27  climate_model_simulation_crashes              8.52   \n",
       "28         28                             quake             44.49   \n",
       "29         29                             yeast              0.34   \n",
       "30         30                             churn             14.14   \n",
       "31         31                              wilt              5.39   \n",
       "\n",
       "                                         metafeatures  isolation_forest_f1  \\\n",
       "0   [0.26863786259667444, 61.30611403534003, 1.480...             0.996466   \n",
       "1   [0.5600270501084725, 135.14002942901286, 1.068...             0.960976   \n",
       "2   [0.6972646145068585, 1300.2082198691544, 0.504...             0.803922   \n",
       "3   [0.012400670667631054, 47.401319205311246, 8.6...             0.984000   \n",
       "4   [0.36628000714210573, 3686.128256862358, 1.120...             0.809275   \n",
       "5   [0.5309830472185297, 2219.3638242940983, 0.662...             0.955556   \n",
       "6   [0.4048955217168707, 235.3615336759734, 0.9762...             0.984709   \n",
       "7   [0.2459127488478442, 1646.5528671540126, 1.672...             0.720534   \n",
       "8   [0.6419363587593904, 58399.56773256083, 0.6464...             0.835250   \n",
       "9   [0.29743199498855305, 2969.2237503160577, 1.35...             0.834080   \n",
       "10  [0.7222364097611819, 2304.593086778019, 0.4980...             0.725714   \n",
       "11  [0.5687897206066522, 964.2725251674408, 0.7133...             0.744000   \n",
       "12  [0.595130350704165, 1039.8866251008255, 0.7628...             0.960699   \n",
       "13  [0.7025413950356174, 1006.8074144957931, 0.578...             0.773684   \n",
       "14  [0.3895016925056462, 240.76631323056972, 0.967...             0.624242   \n",
       "15  [0.12655658623145472, 52.614660515883806, 2.65...             0.697959   \n",
       "16  [0.8475319360835041, 4519.933422105306, 0.5855...             0.676112   \n",
       "17  [0.9808012284453705, 1547.0821596373014, 0.445...             0.891566   \n",
       "18  [0.8572549371115099, 349.4820464781444, 0.6562...             0.663462   \n",
       "19  [0.9877522554747115, 3328.677372028816, 0.2311...             0.946705   \n",
       "20  [0.5467584892393395, 6376.1190824749365, 0.610...             0.995912   \n",
       "21  [0.5392991912379833, 16224.455321839974, 0.664...             0.836096   \n",
       "22  [0.6698047866103679, 7297.726811254146, 0.4735...             0.898433   \n",
       "23  [0.39559167198546236, 1720.344902225193, 1.025...             0.937588   \n",
       "24  [0.5842257305055926, 69093.34966915922, 0.6104...             0.757647   \n",
       "25  [0.9957037328869507, 24559.20704734215, 0.4043...             0.854018   \n",
       "26  [0.16394326630552236, 367.9771642687542, 2.347...             0.795547   \n",
       "27  [0.5410542319474954, 1118.4723802507572, 0.644...             0.917004   \n",
       "28  [0.5668926666306254, 1656.9576500860678, 0.774...             0.569065   \n",
       "29  [0.26404231937993805, 427.5565911760813, 1.600...             0.997633   \n",
       "30  [0.6166327343906929, 14675.657079943683, 0.512...             0.873981   \n",
       "31  [0.48431902732162724, 4892.457139820039, 0.757...             0.943425   \n",
       "\n",
       "      lof_f1  ocsvm_f1  \n",
       "0   0.989399  0.926471  \n",
       "1   0.965854  0.935000  \n",
       "2   0.711485  0.617318  \n",
       "3   0.983724  0.958982  \n",
       "4   0.708797  0.409688  \n",
       "5   0.923457  0.927910  \n",
       "6   0.981651  0.959248  \n",
       "7   0.733630  0.704097  \n",
       "8   0.832962  0.864394  \n",
       "9   0.844293  0.761229  \n",
       "10  0.685714  0.651341  \n",
       "11  0.662000  0.605998  \n",
       "12  0.545852  0.904602  \n",
       "13  0.763731  0.675510  \n",
       "14  0.563636  0.569801  \n",
       "15  0.710204  0.637168  \n",
       "16  0.583109  0.696275  \n",
       "17  0.815884  0.715068  \n",
       "18  0.661058  0.632680  \n",
       "19  0.935078  0.634921  \n",
       "20  0.995672  0.970900  \n",
       "21  0.836525  0.610744  \n",
       "22  0.884387  0.741110  \n",
       "23  0.942389  0.781012  \n",
       "24  0.762976  0.686854  \n",
       "25  0.804807  0.676178  \n",
       "26  0.818320  0.774663  \n",
       "27  0.910931  0.551136  \n",
       "28  0.556658  0.500448  \n",
       "29  0.996280  0.973985  \n",
       "30  0.872816  0.803321  \n",
       "31  0.947794  0.740741  "
      ]
     },
     "execution_count": 101,
     "metadata": {},
     "output_type": "execute_result"
    }
   ],
   "source": [
    "df = pd.DataFrame(datasets)\n",
    "cols = ['datasetID', 'name', 'contamination(%)', 'metafeatures', 'isolation_forest_f1', 'lof_f1', 'ocsvm_f1']\n",
    "df = df[cols]\n",
    "df"
   ]
  },
  {
   "cell_type": "markdown",
   "metadata": {},
   "source": [
    "### Save"
   ]
  },
  {
   "cell_type": "code",
   "execution_count": 102,
   "metadata": {
    "collapsed": true
   },
   "outputs": [],
   "source": [
    "import pickle\n",
    "with open(\"meta_computed_f1.txt\", \"wb\") as fp: # Pickling\n",
    "    pickle.dump(datasets, fp)"
   ]
  },
  {
   "cell_type": "markdown",
   "metadata": {},
   "source": [
    "### Load"
   ]
  },
  {
   "cell_type": "code",
   "execution_count": 62,
   "metadata": {
    "collapsed": true
   },
   "outputs": [],
   "source": [
    "import pickle\n",
    "with open(\"meta_computed.txt\", \"rb\") as fp: # Unpickling\n",
    "    datasets = pickle.load(fp)"
   ]
  },
  {
   "cell_type": "code",
   "execution_count": null,
   "metadata": {
    "collapsed": true
   },
   "outputs": [],
   "source": []
  }
 ],
 "metadata": {
  "kernelspec": {
   "display_name": "Python 3",
   "language": "python",
   "name": "python3"
  },
  "language_info": {
   "codemirror_mode": {
    "name": "ipython",
    "version": 3
   },
   "file_extension": ".py",
   "mimetype": "text/x-python",
   "name": "python",
   "nbconvert_exporter": "python",
   "pygments_lexer": "ipython3",
   "version": "3.6.9"
  }
 },
 "nbformat": 4,
 "nbformat_minor": 2
}
