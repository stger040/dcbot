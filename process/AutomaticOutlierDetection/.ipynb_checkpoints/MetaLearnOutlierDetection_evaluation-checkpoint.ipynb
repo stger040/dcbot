{
 "cells": [
  {
   "cell_type": "markdown",
   "metadata": {},
   "source": [
    "# Evaluation of the Meta-Learn Model for Outlier Detection"
   ]
  },
  {
   "cell_type": "markdown",
   "metadata": {},
   "source": [
    "We now have computed metafeatures and performance of each of 3 outlier detection algorithms for each dataset in meta_computed.txt. Based on this, we can train three regressors to predict the performance of isolaiton forest, local outlier factor and one class svm on a given dataset."
   ]
  },
  {
   "cell_type": "code",
   "execution_count": 24,
   "metadata": {
    "collapsed": true
   },
   "outputs": [],
   "source": [
    "import matplotlib.pyplot as plt  \n",
    "import scipy\n",
    "import numpy as np\n",
    "import pandas as pd\n",
    "import openml as oml\n",
    "import pickle\n",
    "import warnings\n",
    "warnings.filterwarnings('ignore')"
   ]
  },
  {
   "cell_type": "code",
   "execution_count": 2,
   "metadata": {
    "collapsed": true
   },
   "outputs": [],
   "source": [
    "plt.rcParams['figure.dpi']= 120\n",
    "plt.rcParams['xtick.labelsize'] = 8\n",
    "plt.rcParams['ytick.labelsize'] = 8 "
   ]
  },
  {
   "cell_type": "markdown",
   "metadata": {},
   "source": [
    "## Load Computed Table"
   ]
  },
  {
   "cell_type": "code",
   "execution_count": 3,
   "metadata": {},
   "outputs": [
    {
     "data": {
      "text/html": [
       "<div>\n",
       "<style scoped>\n",
       "    .dataframe tbody tr th:only-of-type {\n",
       "        vertical-align: middle;\n",
       "    }\n",
       "\n",
       "    .dataframe tbody tr th {\n",
       "        vertical-align: top;\n",
       "    }\n",
       "\n",
       "    .dataframe thead th {\n",
       "        text-align: right;\n",
       "    }\n",
       "</style>\n",
       "<table border=\"1\" class=\"dataframe\">\n",
       "  <thead>\n",
       "    <tr style=\"text-align: right;\">\n",
       "      <th></th>\n",
       "      <th>name</th>\n",
       "      <th>contamination(%)</th>\n",
       "      <th>metafeatures</th>\n",
       "      <th>isolation_forest_f1</th>\n",
       "      <th>lof_f1</th>\n",
       "      <th>ocsvm_f1</th>\n",
       "    </tr>\n",
       "  </thead>\n",
       "  <tbody>\n",
       "    <tr>\n",
       "      <th>0</th>\n",
       "      <td>lymph</td>\n",
       "      <td>4.10</td>\n",
       "      <td>[0.26863786259667444, 61.30611403534003, 1.480...</td>\n",
       "      <td>0.996466</td>\n",
       "      <td>0.989399</td>\n",
       "      <td>0.926471</td>\n",
       "    </tr>\n",
       "    <tr>\n",
       "      <th>1</th>\n",
       "      <td>glass</td>\n",
       "      <td>4.21</td>\n",
       "      <td>[0.5600270501084725, 135.14002942901286, 1.068...</td>\n",
       "      <td>0.960976</td>\n",
       "      <td>0.965854</td>\n",
       "      <td>0.935000</td>\n",
       "    </tr>\n",
       "    <tr>\n",
       "      <th>2</th>\n",
       "      <td>wdbc</td>\n",
       "      <td>37.26</td>\n",
       "      <td>[0.6972646145068585, 1300.2082198691544, 0.504...</td>\n",
       "      <td>0.803922</td>\n",
       "      <td>0.711485</td>\n",
       "      <td>0.617318</td>\n",
       "    </tr>\n",
       "    <tr>\n",
       "      <th>3</th>\n",
       "      <td>speech</td>\n",
       "      <td>1.65</td>\n",
       "      <td>[0.012400670667631054, 47.401319205311246, 8.6...</td>\n",
       "      <td>0.984000</td>\n",
       "      <td>0.983724</td>\n",
       "      <td>0.958982</td>\n",
       "    </tr>\n",
       "    <tr>\n",
       "      <th>4</th>\n",
       "      <td>satellite_image</td>\n",
       "      <td>31.64</td>\n",
       "      <td>[0.36628000714210573, 3686.128256862358, 1.120...</td>\n",
       "      <td>0.809275</td>\n",
       "      <td>0.708797</td>\n",
       "      <td>0.409688</td>\n",
       "    </tr>\n",
       "    <tr>\n",
       "      <th>5</th>\n",
       "      <td>baseball</td>\n",
       "      <td>9.33</td>\n",
       "      <td>[0.5309830472185297, 2219.3638242940983, 0.662...</td>\n",
       "      <td>0.955556</td>\n",
       "      <td>0.923457</td>\n",
       "      <td>0.927910</td>\n",
       "    </tr>\n",
       "    <tr>\n",
       "      <th>6</th>\n",
       "      <td>ecoli</td>\n",
       "      <td>2.68</td>\n",
       "      <td>[0.4048955217168707, 235.3615336759734, 0.9762...</td>\n",
       "      <td>0.984709</td>\n",
       "      <td>0.981651</td>\n",
       "      <td>0.959248</td>\n",
       "    </tr>\n",
       "    <tr>\n",
       "      <th>7</th>\n",
       "      <td>phoneme</td>\n",
       "      <td>29.35</td>\n",
       "      <td>[0.2459127488478442, 1646.5528671540126, 1.672...</td>\n",
       "      <td>0.720534</td>\n",
       "      <td>0.733630</td>\n",
       "      <td>0.704097</td>\n",
       "    </tr>\n",
       "    <tr>\n",
       "      <th>8</th>\n",
       "      <td>click_prediction_small</td>\n",
       "      <td>16.84</td>\n",
       "      <td>[0.6419363587593904, 58399.56773256083, 0.6464...</td>\n",
       "      <td>0.835250</td>\n",
       "      <td>0.832962</td>\n",
       "      <td>0.864394</td>\n",
       "    </tr>\n",
       "    <tr>\n",
       "      <th>9</th>\n",
       "      <td>musk</td>\n",
       "      <td>15.41</td>\n",
       "      <td>[0.29743199498855305, 2969.2237503160577, 1.35...</td>\n",
       "      <td>0.834080</td>\n",
       "      <td>0.844293</td>\n",
       "      <td>0.761229</td>\n",
       "    </tr>\n",
       "    <tr>\n",
       "      <th>10</th>\n",
       "      <td>credit_g</td>\n",
       "      <td>30.00</td>\n",
       "      <td>[0.7222364097611819, 2304.593086778019, 0.4980...</td>\n",
       "      <td>0.725714</td>\n",
       "      <td>0.685714</td>\n",
       "      <td>0.651341</td>\n",
       "    </tr>\n",
       "    <tr>\n",
       "      <th>11</th>\n",
       "      <td>diabetes</td>\n",
       "      <td>34.89</td>\n",
       "      <td>[0.5687897206066522, 964.2725251674408, 0.7133...</td>\n",
       "      <td>0.744000</td>\n",
       "      <td>0.662000</td>\n",
       "      <td>0.605998</td>\n",
       "    </tr>\n",
       "    <tr>\n",
       "      <th>12</th>\n",
       "      <td>breast_w</td>\n",
       "      <td>34.48</td>\n",
       "      <td>[0.595130350704165, 1039.8866251008255, 0.7628...</td>\n",
       "      <td>0.960699</td>\n",
       "      <td>0.545852</td>\n",
       "      <td>0.904602</td>\n",
       "    </tr>\n",
       "    <tr>\n",
       "      <th>13</th>\n",
       "      <td>blood_transfusion_service_center</td>\n",
       "      <td>23.79</td>\n",
       "      <td>[0.7025413950356174, 1006.8074144957931, 0.578...</td>\n",
       "      <td>0.773684</td>\n",
       "      <td>0.763731</td>\n",
       "      <td>0.675510</td>\n",
       "    </tr>\n",
       "    <tr>\n",
       "      <th>14</th>\n",
       "      <td>heart</td>\n",
       "      <td>45.54</td>\n",
       "      <td>[0.3895016925056462, 240.76631323056972, 0.967...</td>\n",
       "      <td>0.624242</td>\n",
       "      <td>0.563636</td>\n",
       "      <td>0.569801</td>\n",
       "    </tr>\n",
       "    <tr>\n",
       "      <th>15</th>\n",
       "      <td>arrhythmia</td>\n",
       "      <td>45.79</td>\n",
       "      <td>[0.12655658623145472, 52.614660515883806, 2.65...</td>\n",
       "      <td>0.697959</td>\n",
       "      <td>0.710204</td>\n",
       "      <td>0.637168</td>\n",
       "    </tr>\n",
       "    <tr>\n",
       "      <th>16</th>\n",
       "      <td>spambase</td>\n",
       "      <td>39.40</td>\n",
       "      <td>[0.8475319360835041, 4519.933422105306, 0.5855...</td>\n",
       "      <td>0.676112</td>\n",
       "      <td>0.583109</td>\n",
       "      <td>0.696275</td>\n",
       "    </tr>\n",
       "    <tr>\n",
       "      <th>17</th>\n",
       "      <td>kc2</td>\n",
       "      <td>20.49</td>\n",
       "      <td>[0.9808012284453705, 1547.0821596373014, 0.445...</td>\n",
       "      <td>0.891566</td>\n",
       "      <td>0.815884</td>\n",
       "      <td>0.715068</td>\n",
       "    </tr>\n",
       "    <tr>\n",
       "      <th>18</th>\n",
       "      <td>ilpd</td>\n",
       "      <td>28.64</td>\n",
       "      <td>[0.8572549371115099, 349.4820464781444, 0.6562...</td>\n",
       "      <td>0.663462</td>\n",
       "      <td>0.661058</td>\n",
       "      <td>0.632680</td>\n",
       "    </tr>\n",
       "    <tr>\n",
       "      <th>19</th>\n",
       "      <td>pc1</td>\n",
       "      <td>6.94</td>\n",
       "      <td>[0.9877522554747115, 3328.677372028816, 0.2311...</td>\n",
       "      <td>0.946705</td>\n",
       "      <td>0.935078</td>\n",
       "      <td>0.634921</td>\n",
       "    </tr>\n",
       "    <tr>\n",
       "      <th>20</th>\n",
       "      <td>abalone</td>\n",
       "      <td>0.43</td>\n",
       "      <td>[0.5467584892393395, 6376.1190824749365, 0.610...</td>\n",
       "      <td>0.995912</td>\n",
       "      <td>0.995672</td>\n",
       "      <td>0.970900</td>\n",
       "    </tr>\n",
       "    <tr>\n",
       "      <th>21</th>\n",
       "      <td>speed_dating</td>\n",
       "      <td>16.47</td>\n",
       "      <td>[0.5392991912379833, 16224.455321839974, 0.664...</td>\n",
       "      <td>0.836096</td>\n",
       "      <td>0.836525</td>\n",
       "      <td>0.610744</td>\n",
       "    </tr>\n",
       "    <tr>\n",
       "      <th>22</th>\n",
       "      <td>cardiotocography</td>\n",
       "      <td>12.94</td>\n",
       "      <td>[0.6698047866103679, 7297.726811254146, 0.4735...</td>\n",
       "      <td>0.898433</td>\n",
       "      <td>0.884387</td>\n",
       "      <td>0.741110</td>\n",
       "    </tr>\n",
       "    <tr>\n",
       "      <th>23</th>\n",
       "      <td>sick</td>\n",
       "      <td>6.12</td>\n",
       "      <td>[0.39559167198546236, 1720.344902225193, 1.025...</td>\n",
       "      <td>0.937588</td>\n",
       "      <td>0.942389</td>\n",
       "      <td>0.781012</td>\n",
       "    </tr>\n",
       "    <tr>\n",
       "      <th>24</th>\n",
       "      <td>adult</td>\n",
       "      <td>23.93</td>\n",
       "      <td>[0.5842257305055926, 69093.34966915922, 0.6104...</td>\n",
       "      <td>0.757647</td>\n",
       "      <td>0.762976</td>\n",
       "      <td>0.686854</td>\n",
       "    </tr>\n",
       "    <tr>\n",
       "      <th>25</th>\n",
       "      <td>jm1</td>\n",
       "      <td>19.35</td>\n",
       "      <td>[0.9957037328869507, 24559.20704734215, 0.4043...</td>\n",
       "      <td>0.854018</td>\n",
       "      <td>0.804807</td>\n",
       "      <td>0.676178</td>\n",
       "    </tr>\n",
       "    <tr>\n",
       "      <th>26</th>\n",
       "      <td>scene</td>\n",
       "      <td>17.91</td>\n",
       "      <td>[0.16394326630552236, 367.9771642687542, 2.347...</td>\n",
       "      <td>0.795547</td>\n",
       "      <td>0.818320</td>\n",
       "      <td>0.774663</td>\n",
       "    </tr>\n",
       "    <tr>\n",
       "      <th>27</th>\n",
       "      <td>climate_model_simulation_crashes</td>\n",
       "      <td>8.52</td>\n",
       "      <td>[0.5410542319474954, 1118.4723802507572, 0.644...</td>\n",
       "      <td>0.917004</td>\n",
       "      <td>0.910931</td>\n",
       "      <td>0.551136</td>\n",
       "    </tr>\n",
       "    <tr>\n",
       "      <th>28</th>\n",
       "      <td>quake</td>\n",
       "      <td>44.49</td>\n",
       "      <td>[0.5668926666306254, 1656.9576500860678, 0.774...</td>\n",
       "      <td>0.569065</td>\n",
       "      <td>0.556658</td>\n",
       "      <td>0.500448</td>\n",
       "    </tr>\n",
       "    <tr>\n",
       "      <th>29</th>\n",
       "      <td>yeast</td>\n",
       "      <td>0.34</td>\n",
       "      <td>[0.26404231937993805, 427.5565911760813, 1.600...</td>\n",
       "      <td>0.997633</td>\n",
       "      <td>0.996280</td>\n",
       "      <td>0.973985</td>\n",
       "    </tr>\n",
       "    <tr>\n",
       "      <th>30</th>\n",
       "      <td>churn</td>\n",
       "      <td>14.14</td>\n",
       "      <td>[0.6166327343906929, 14675.657079943683, 0.512...</td>\n",
       "      <td>0.873981</td>\n",
       "      <td>0.872816</td>\n",
       "      <td>0.803321</td>\n",
       "    </tr>\n",
       "    <tr>\n",
       "      <th>31</th>\n",
       "      <td>wilt</td>\n",
       "      <td>5.39</td>\n",
       "      <td>[0.48431902732162724, 4892.457139820039, 0.757...</td>\n",
       "      <td>0.943425</td>\n",
       "      <td>0.947794</td>\n",
       "      <td>0.740741</td>\n",
       "    </tr>\n",
       "  </tbody>\n",
       "</table>\n",
       "</div>"
      ],
      "text/plain": [
       "                                name  contamination(%)  \\\n",
       "0                              lymph              4.10   \n",
       "1                              glass              4.21   \n",
       "2                               wdbc             37.26   \n",
       "3                             speech              1.65   \n",
       "4                    satellite_image             31.64   \n",
       "5                           baseball              9.33   \n",
       "6                              ecoli              2.68   \n",
       "7                            phoneme             29.35   \n",
       "8             click_prediction_small             16.84   \n",
       "9                               musk             15.41   \n",
       "10                          credit_g             30.00   \n",
       "11                          diabetes             34.89   \n",
       "12                          breast_w             34.48   \n",
       "13  blood_transfusion_service_center             23.79   \n",
       "14                             heart             45.54   \n",
       "15                        arrhythmia             45.79   \n",
       "16                          spambase             39.40   \n",
       "17                               kc2             20.49   \n",
       "18                              ilpd             28.64   \n",
       "19                               pc1              6.94   \n",
       "20                           abalone              0.43   \n",
       "21                      speed_dating             16.47   \n",
       "22                  cardiotocography             12.94   \n",
       "23                              sick              6.12   \n",
       "24                             adult             23.93   \n",
       "25                               jm1             19.35   \n",
       "26                             scene             17.91   \n",
       "27  climate_model_simulation_crashes              8.52   \n",
       "28                             quake             44.49   \n",
       "29                             yeast              0.34   \n",
       "30                             churn             14.14   \n",
       "31                              wilt              5.39   \n",
       "\n",
       "                                         metafeatures  isolation_forest_f1  \\\n",
       "0   [0.26863786259667444, 61.30611403534003, 1.480...             0.996466   \n",
       "1   [0.5600270501084725, 135.14002942901286, 1.068...             0.960976   \n",
       "2   [0.6972646145068585, 1300.2082198691544, 0.504...             0.803922   \n",
       "3   [0.012400670667631054, 47.401319205311246, 8.6...             0.984000   \n",
       "4   [0.36628000714210573, 3686.128256862358, 1.120...             0.809275   \n",
       "5   [0.5309830472185297, 2219.3638242940983, 0.662...             0.955556   \n",
       "6   [0.4048955217168707, 235.3615336759734, 0.9762...             0.984709   \n",
       "7   [0.2459127488478442, 1646.5528671540126, 1.672...             0.720534   \n",
       "8   [0.6419363587593904, 58399.56773256083, 0.6464...             0.835250   \n",
       "9   [0.29743199498855305, 2969.2237503160577, 1.35...             0.834080   \n",
       "10  [0.7222364097611819, 2304.593086778019, 0.4980...             0.725714   \n",
       "11  [0.5687897206066522, 964.2725251674408, 0.7133...             0.744000   \n",
       "12  [0.595130350704165, 1039.8866251008255, 0.7628...             0.960699   \n",
       "13  [0.7025413950356174, 1006.8074144957931, 0.578...             0.773684   \n",
       "14  [0.3895016925056462, 240.76631323056972, 0.967...             0.624242   \n",
       "15  [0.12655658623145472, 52.614660515883806, 2.65...             0.697959   \n",
       "16  [0.8475319360835041, 4519.933422105306, 0.5855...             0.676112   \n",
       "17  [0.9808012284453705, 1547.0821596373014, 0.445...             0.891566   \n",
       "18  [0.8572549371115099, 349.4820464781444, 0.6562...             0.663462   \n",
       "19  [0.9877522554747115, 3328.677372028816, 0.2311...             0.946705   \n",
       "20  [0.5467584892393395, 6376.1190824749365, 0.610...             0.995912   \n",
       "21  [0.5392991912379833, 16224.455321839974, 0.664...             0.836096   \n",
       "22  [0.6698047866103679, 7297.726811254146, 0.4735...             0.898433   \n",
       "23  [0.39559167198546236, 1720.344902225193, 1.025...             0.937588   \n",
       "24  [0.5842257305055926, 69093.34966915922, 0.6104...             0.757647   \n",
       "25  [0.9957037328869507, 24559.20704734215, 0.4043...             0.854018   \n",
       "26  [0.16394326630552236, 367.9771642687542, 2.347...             0.795547   \n",
       "27  [0.5410542319474954, 1118.4723802507572, 0.644...             0.917004   \n",
       "28  [0.5668926666306254, 1656.9576500860678, 0.774...             0.569065   \n",
       "29  [0.26404231937993805, 427.5565911760813, 1.600...             0.997633   \n",
       "30  [0.6166327343906929, 14675.657079943683, 0.512...             0.873981   \n",
       "31  [0.48431902732162724, 4892.457139820039, 0.757...             0.943425   \n",
       "\n",
       "      lof_f1  ocsvm_f1  \n",
       "0   0.989399  0.926471  \n",
       "1   0.965854  0.935000  \n",
       "2   0.711485  0.617318  \n",
       "3   0.983724  0.958982  \n",
       "4   0.708797  0.409688  \n",
       "5   0.923457  0.927910  \n",
       "6   0.981651  0.959248  \n",
       "7   0.733630  0.704097  \n",
       "8   0.832962  0.864394  \n",
       "9   0.844293  0.761229  \n",
       "10  0.685714  0.651341  \n",
       "11  0.662000  0.605998  \n",
       "12  0.545852  0.904602  \n",
       "13  0.763731  0.675510  \n",
       "14  0.563636  0.569801  \n",
       "15  0.710204  0.637168  \n",
       "16  0.583109  0.696275  \n",
       "17  0.815884  0.715068  \n",
       "18  0.661058  0.632680  \n",
       "19  0.935078  0.634921  \n",
       "20  0.995672  0.970900  \n",
       "21  0.836525  0.610744  \n",
       "22  0.884387  0.741110  \n",
       "23  0.942389  0.781012  \n",
       "24  0.762976  0.686854  \n",
       "25  0.804807  0.676178  \n",
       "26  0.818320  0.774663  \n",
       "27  0.910931  0.551136  \n",
       "28  0.556658  0.500448  \n",
       "29  0.996280  0.973985  \n",
       "30  0.872816  0.803321  \n",
       "31  0.947794  0.740741  "
      ]
     },
     "execution_count": 3,
     "metadata": {},
     "output_type": "execute_result"
    }
   ],
   "source": [
    "# read computed table\n",
    "with open(\"meta_computed_f1.txt\", \"rb\") as fp: # Unpickling\n",
    "    datasets = pickle.load(fp)\n",
    "df = pd.DataFrame(datasets)\n",
    "cols = ['name', 'contamination(%)', 'metafeatures', 'isolation_forest_f1', 'lof_f1', 'ocsvm_f1']\n",
    "df = df[cols]\n",
    "df"
   ]
  },
  {
   "cell_type": "code",
   "execution_count": 4,
   "metadata": {},
   "outputs": [
    {
     "data": {
      "text/plain": [
       "0     isolation_forest_f1\n",
       "1                  lof_f1\n",
       "2     isolation_forest_f1\n",
       "3     isolation_forest_f1\n",
       "4     isolation_forest_f1\n",
       "5     isolation_forest_f1\n",
       "6     isolation_forest_f1\n",
       "7                  lof_f1\n",
       "8                ocsvm_f1\n",
       "9                  lof_f1\n",
       "10    isolation_forest_f1\n",
       "11    isolation_forest_f1\n",
       "12    isolation_forest_f1\n",
       "13    isolation_forest_f1\n",
       "14    isolation_forest_f1\n",
       "15                 lof_f1\n",
       "16               ocsvm_f1\n",
       "17    isolation_forest_f1\n",
       "18    isolation_forest_f1\n",
       "19    isolation_forest_f1\n",
       "20    isolation_forest_f1\n",
       "21                 lof_f1\n",
       "22    isolation_forest_f1\n",
       "23                 lof_f1\n",
       "24                 lof_f1\n",
       "25    isolation_forest_f1\n",
       "26                 lof_f1\n",
       "27    isolation_forest_f1\n",
       "28    isolation_forest_f1\n",
       "29    isolation_forest_f1\n",
       "30    isolation_forest_f1\n",
       "31                 lof_f1\n",
       "dtype: object"
      ]
     },
     "execution_count": 4,
     "metadata": {},
     "output_type": "execute_result"
    }
   ],
   "source": [
    "df_score_f1 = df[['isolation_forest_f1','lof_f1','ocsvm_f1']]\n",
    "df_best_algorithm = df_score_f1.idxmax(axis=1)\n",
    "df_best_algorithm"
   ]
  },
  {
   "cell_type": "code",
   "execution_count": 5,
   "metadata": {},
   "outputs": [
    {
     "data": {
      "text/plain": [
       "0     0\n",
       "1     1\n",
       "2     0\n",
       "3     0\n",
       "4     0\n",
       "5     0\n",
       "6     0\n",
       "7     1\n",
       "8     2\n",
       "9     1\n",
       "10    0\n",
       "11    0\n",
       "12    0\n",
       "13    0\n",
       "14    0\n",
       "15    1\n",
       "16    2\n",
       "17    0\n",
       "18    0\n",
       "19    0\n",
       "20    0\n",
       "21    1\n",
       "22    0\n",
       "23    1\n",
       "24    1\n",
       "25    0\n",
       "26    1\n",
       "27    0\n",
       "28    0\n",
       "29    0\n",
       "30    0\n",
       "31    1\n",
       "dtype: int64"
      ]
     },
     "execution_count": 5,
     "metadata": {},
     "output_type": "execute_result"
    }
   ],
   "source": [
    "df_best_indicator = df_best_algorithm.replace({'isolation_forest_f1': 0, 'lof_f1': 1, 'ocsvm_f1': 2})\n",
    "df_best_indicator"
   ]
  },
  {
   "cell_type": "code",
   "execution_count": 65,
   "metadata": {},
   "outputs": [
    {
     "data": {
      "text/plain": [
       "(32, 13)"
      ]
     },
     "execution_count": 65,
     "metadata": {},
     "output_type": "execute_result"
    }
   ],
   "source": [
    "# metafeatures\n",
    "X = np.asarray(df['metafeatures'].tolist())\n",
    "X.shape"
   ]
  },
  {
   "cell_type": "code",
   "execution_count": 9,
   "metadata": {},
   "outputs": [
    {
     "data": {
      "text/plain": [
       "array([0, 1, 0, 0, 0, 0, 0, 1, 2, 1, 0, 0, 0, 0, 0, 1, 2, 0, 0, 0, 0, 1,\n",
       "       0, 1, 1, 0, 1, 0, 0, 0, 0, 1], dtype=int64)"
      ]
     },
     "execution_count": 9,
     "metadata": {},
     "output_type": "execute_result"
    }
   ],
   "source": [
    "# target: f1 of 3 outlier detection classifiers \n",
    "y_isolation_forest = df['isolation_forest_f1'].values\n",
    "y_lof = df['lof_f1'].values\n",
    "y_ocsvm = df['ocsvm_f1'].values\n",
    "\n",
    "# target: best outlier detection classifier\n",
    "y = df_best_indicator.values\n",
    "y"
   ]
  },
  {
   "cell_type": "markdown",
   "metadata": {},
   "source": [
    "## Plot Performance of 3 Outlier Detection Algorithms on Benchmark Datasets"
   ]
  },
  {
   "cell_type": "code",
   "execution_count": 10,
   "metadata": {},
   "outputs": [
    {
     "data": {
      "text/html": [
       "<iframe id=\"igraph\" scrolling=\"no\" style=\"border:none;\" seamless=\"seamless\" src=\"https://plot.ly/~zhangji0218/28.embed\" height=\"525px\" width=\"100%\"></iframe>"
      ],
      "text/plain": [
       "<plotly.tools.PlotlyDisplay object>"
      ]
     },
     "execution_count": 10,
     "metadata": {},
     "output_type": "execute_result"
    }
   ],
   "source": [
    "import plotly.plotly as py\n",
    "import plotly.graph_objs as go\n",
    "\n",
    "trace1 = go.Bar(\n",
    "    x = df['name'].tolist(),\n",
    "    y = y_isolation_forest.tolist(),\n",
    "    name = 'isolation forest'\n",
    ")\n",
    "trace2 = go.Bar(\n",
    "    x = df['name'].tolist(),\n",
    "    y = y_lof.tolist(),\n",
    "    name = 'local outlier factor'\n",
    ")\n",
    "trace3 = go.Bar(\n",
    "    x = df['name'].tolist(),\n",
    "    y = y_ocsvm.tolist(),\n",
    "    name = 'one class svm'\n",
    ")\n",
    "\n",
    "data = [trace1, trace2, trace3]\n",
    "layout = go.Layout(\n",
    "    barmode='group'\n",
    ")\n",
    "\n",
    "fig = go.Figure(data=data, layout=layout)\n",
    "py.iplot(fig, filename='grouped-bar')"
   ]
  },
  {
   "cell_type": "markdown",
   "metadata": {},
   "source": [
    "## Evaluate meta learners"
   ]
  },
  {
   "cell_type": "markdown",
   "metadata": {},
   "source": [
    "The following classifiers are trained and evaluated: <br>\n",
    "K Nearest Neighbor <br>\n",
    "SVM <br>\n",
    "Random Forest\n"
   ]
  },
  {
   "cell_type": "code",
   "execution_count": 39,
   "metadata": {
    "collapsed": true
   },
   "outputs": [],
   "source": [
    "from sklearn.model_selection import cross_val_score\n",
    "from sklearn.model_selection import GridSearchCV\n",
    "from sklearn.neighbors import KNeighborsClassifier\n",
    "from sklearn.ensemble import RandomForestClassifier\n",
    "from sklearn.svm import SVC"
   ]
  },
  {
   "cell_type": "code",
   "execution_count": 36,
   "metadata": {},
   "outputs": [
    {
     "name": "stdout",
     "output_type": "stream",
     "text": [
      "Fitting 5 folds for each of 10 candidates, totalling 50 fits\n",
      "0.6875\n",
      "{'n_neighbors': 5}\n"
     ]
    },
    {
     "name": "stderr",
     "output_type": "stream",
     "text": [
      "[Parallel(n_jobs=-1)]: Using backend LokyBackend with 8 concurrent workers.\n",
      "[Parallel(n_jobs=-1)]: Done  50 out of  50 | elapsed:    0.0s finished\n"
     ]
    }
   ],
   "source": [
    "# knn meta-learner\n",
    "\n",
    "# Create dictionary for hyperparamters\n",
    "param_grid_knn = {\n",
    "    \"n_neighbors\": [1, 2, 3, 4, 5, 6, 7, 8, 9, 10]\n",
    "}\n",
    "\n",
    "grid_search_knn = GridSearchCV(KNeighborsClassifier(), param_grid_knn, cv=5, n_jobs=-1, scoring=\"accuracy\", verbose=1)\n",
    "grid_search_knn.fit(X, y)\n",
    "\n",
    "print(grid_search_knn.best_score_)     \n",
    "print(grid_search_knn.best_params_)\n",
    "# score_knn_isolation_forest = cross_val_score(knn, X, y_isolation_forest, scoring='r2', cv=5).mean()\n",
    "# print(score_knn_isolation_forest)"
   ]
  },
  {
   "cell_type": "code",
   "execution_count": 43,
   "metadata": {},
   "outputs": [
    {
     "name": "stdout",
     "output_type": "stream",
     "text": [
      "0.65625\n",
      "{'C': 3.0517578125e-05, 'gamma': 3.0517578125e-05}\n"
     ]
    }
   ],
   "source": [
    "# svm meta-learner\n",
    "CGgrid = np.logspace(-15,15,num=10,base=2)\n",
    "param_grid_svm = {'C': CGgrid ,\n",
    "                  'gamma': CGgrid}\n",
    "grid_search_svm = GridSearchCV(SVC(), param_grid_svm, cv=5, scoring='accuracy', n_jobs=-1)\n",
    "grid_search_svm.fit(X, y)\n",
    "\n",
    "print(grid_search_svm.best_score_)     \n",
    "print(grid_search_svm.best_params_)"
   ]
  },
  {
   "cell_type": "code",
   "execution_count": 37,
   "metadata": {},
   "outputs": [
    {
     "name": "stdout",
     "output_type": "stream",
     "text": [
      "0.71875\n",
      "{'max_features': 0.01, 'n_estimators': 30}\n"
     ]
    }
   ],
   "source": [
    "# random forest meta-learner\n",
    "\n",
    "# Create dictionary for hyperparamters\n",
    "param_grid_rf = {'n_estimators': [1,10,20,30,40,50,60,70,80,90,100],\n",
    "              'max_features': [0.01,0.25,0.50,0.75,1.0]}\n",
    "\n",
    "grid_search_rf = GridSearchCV(RandomForestClassifier(), param_grid_rf, cv=5, n_jobs=-1)\n",
    "grid_search_rf.fit(X, y)\n",
    "\n",
    "print(grid_search_rf.best_score_)     \n",
    "print(grid_search_rf.best_params_)"
   ]
  },
  {
   "cell_type": "markdown",
   "metadata": {},
   "source": [
    "## Save best meta-learner"
   ]
  },
  {
   "cell_type": "code",
   "execution_count": 44,
   "metadata": {},
   "outputs": [
    {
     "data": {
      "text/plain": [
       "['metalearner_rf.pkl']"
      ]
     },
     "execution_count": 44,
     "metadata": {},
     "output_type": "execute_result"
    }
   ],
   "source": [
    "from sklearn.externals import joblib\n",
    "\n",
    "# save trained meta-learner\n",
    "joblib.dump(grid_search_rf, 'metalearner_rf.pkl') "
   ]
  },
  {
   "cell_type": "markdown",
   "metadata": {},
   "source": [
    "## Example of predict the outlier detection algorithm for a random dataset"
   ]
  },
  {
   "cell_type": "code",
   "execution_count": 53,
   "metadata": {
    "collapsed": true
   },
   "outputs": [],
   "source": [
    "from sklearn.cluster import KMeans\n",
    "from sklearn import metrics\n",
    "from sklearn.model_selection import cross_val_predict\n",
    "from sklearn.metrics import roc_auc_score\n",
    "import time\n",
    "from sklearn import preprocessing\n",
    "from sklearn.neighbors import KNeighborsClassifier\n",
    "from sklearn.discriminant_analysis import LinearDiscriminantAnalysis\n",
    "from sklearn.naive_bayes import GaussianNB\n",
    "from sklearn.tree import DecisionTreeClassifier\n",
    "from sklearn.pipeline import Pipeline\n",
    "from sklearn.preprocessing import Imputer\n",
    "\n",
    "def compute_clustering_metafeatures(X):\n",
    "    kmeans_model = KMeans(n_clusters=2, random_state=1).fit(X)\n",
    "    labels = kmeans_model.labels_\n",
    "    silhouette_score = metrics.silhouette_score(X, labels, metric='euclidean')\n",
    "    calinski_harabaz_score = metrics.calinski_harabaz_score(X, labels)\n",
    "    davies_bouldin_score = metrics.davies_bouldin_score(X, labels)\n",
    "    return silhouette_score, calinski_harabaz_score, davies_bouldin_score\n",
    "def pipeline(X, y, estimator):\n",
    "#     if scipy.sparse.issparse(X) == True: # Check if X is sparse array\n",
    "#         X = X.toarray()\n",
    "    start_time_pipeline = time.process_time()\n",
    "    pipe = Pipeline([('Imputer', preprocessing.Imputer(missing_values='NaN', strategy='mean', axis=0)),\n",
    "                     ('classifiers', estimator)])\n",
    "    \n",
    "    # to prevent sklearn cross_val_score failure due to label imabalance\n",
    "#     pred = cross_val_predict(pipe, X, y, cv=5)\n",
    "#     score = roc_auc_score(y, pred)\n",
    "    score = np.mean(cross_val_score(pipe, X, y, cv=10, scoring='accuracy', n_jobs=-1))\n",
    "    time_pipeline = time.process_time() - start_time_pipeline\n",
    "    return score, time_pipeline\n",
    "\n",
    "def compute_metafeatures(X, y):\n",
    "    \"\"\"\n",
    "    The following landmarking features are computed:\n",
    "        Naive Bayes Learner;\n",
    "        Linear Discriminant Learner;\n",
    "        One Nearest Neighbor Learner;\n",
    "        Decision Node Learner;\n",
    "        Randomly Chosen Node Learner\n",
    "    \"\"\"\n",
    "    \n",
    "    # if regression\n",
    "    if len(np.unique(y)) > 100 or len(np.unique(y)) > 0.1*y.shape[0]:\n",
    "        print(\"regression\")\n",
    "        print(\"meta features cannot be extracted as the target is not categorical\")\n",
    "    # if classification\n",
    "    else:\n",
    "#         print(\"classification\")\n",
    "        metafeatures_clf = {}\n",
    "        # compute clustering performance metafeatures\n",
    "        metafeatures_clf['silhouette'], metafeatures_clf['calinski_harabaz'], metafeatures_clf['davies_bouldin'] = compute_clustering_metafeatures(X)\n",
    "    \n",
    "        # compute landmarking metafeatures\n",
    "        metafeatures_clf['naive_bayes'], metafeatures_clf['naive_bayes_time'] = pipeline(X, y, GaussianNB()) \n",
    "        metafeatures_clf['linear_discriminant_analysis'], metafeatures_clf['linear_discriminant_analysis_time'] = pipeline(X, y, LinearDiscriminantAnalysis(solver='lsqr', shrinkage='auto')) \n",
    "        metafeatures_clf['one_nearest_neighbor'], metafeatures_clf['one_nearest_neighbor_time'] = pipeline(X, y, KNeighborsClassifier(n_neighbors = 1)) \n",
    "        metafeatures_clf['decision_node'], metafeatures_clf['decision_node_time'] = pipeline(X, y, DecisionTreeClassifier(criterion='entropy', splitter='best', max_depth=1, random_state=0)) \n",
    "        metafeatures_clf['random_node'], metafeatures_clf['random_node_time'] = pipeline(X, y, DecisionTreeClassifier(criterion='entropy', splitter='random', max_depth=1, random_state=0))\n",
    "        metafeatures = list(metafeatures_clf.values())\n",
    "    \n",
    "    return metafeatures"
   ]
  },
  {
   "cell_type": "code",
   "execution_count": 67,
   "metadata": {
    "collapsed": true
   },
   "outputs": [],
   "source": [
    "data = oml.datasets.get_dataset(1504)\n",
    "X, y = data.get_data(target=data.default_target_attribute)"
   ]
  },
  {
   "cell_type": "code",
   "execution_count": 73,
   "metadata": {
    "collapsed": true
   },
   "outputs": [],
   "source": [
    "def predict_best_anomaly_algorithm(X, y):\n",
    "    \"\"\"\n",
    "    Predict best anomaly detection algorithm\n",
    "    0: isolation forest;\n",
    "    1: lof\n",
    "    2: one svm\n",
    "    \"\"\"\n",
    "    # extract metafeatures of this dataset\n",
    "    mf = np.array(compute_metafeatures(X, y))\n",
    "    mf = mf.reshape(-1, mf.shape[0])\n",
    "    mf.shape\n",
    "    \n",
    "    # load meta learner\n",
    "    metalearner = joblib.load('metalearner_rf.pkl')\n",
    "    best_anomaly_algorithm = metalearner.predict(mf)\n",
    "    return best_anomaly_algorithm"
   ]
  },
  {
   "cell_type": "code",
   "execution_count": 75,
   "metadata": {},
   "outputs": [
    {
     "data": {
      "text/plain": [
       "array([0], dtype=int64)"
      ]
     },
     "execution_count": 75,
     "metadata": {},
     "output_type": "execute_result"
    }
   ],
   "source": [
    "best_anomaly_algorithm = predict_best_anomaly_algorithm(X, y)\n",
    "best_anomaly_algorithm"
   ]
  },
  {
   "cell_type": "code",
   "execution_count": 72,
   "metadata": {},
   "outputs": [],
   "source": []
  }
 ],
 "metadata": {
  "kernelspec": {
   "display_name": "Python 3",
   "language": "python",
   "name": "python3"
  },
  "language_info": {
   "codemirror_mode": {
    "name": "ipython",
    "version": 3
   },
   "file_extension": ".py",
   "mimetype": "text/x-python",
   "name": "python",
   "nbconvert_exporter": "python",
   "pygments_lexer": "ipython3",
   "version": "3.6.3"
  }
 },
 "nbformat": 4,
 "nbformat_minor": 2
}
