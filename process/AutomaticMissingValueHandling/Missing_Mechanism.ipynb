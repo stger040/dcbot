{
 "cells": [
  {
   "cell_type": "code",
   "execution_count": 2,
   "metadata": {},
   "outputs": [
    {
     "name": "stderr",
     "output_type": "stream",
     "text": [
      "D:\\Programfiles\\Anaconda3\\lib\\site-packages\\h5py\\__init__.py:34: FutureWarning: Conversion of the second argument of issubdtype from `float` to `np.floating` is deprecated. In future, it will be treated as `np.float64 == np.dtype(float).type`.\n",
      "  from ._conv import register_converters as _register_converters\n"
     ]
    }
   ],
   "source": [
    "%matplotlib inline\n",
    "import seaborn as sns\n",
    "import openml as oml\n",
    "import numpy as np\n",
    "import pandas as pd\n",
    "import matplotlib.pyplot as plt\n",
    "import missingno as msno\n",
    "from matplotlib.ticker import FormatStrFormatter\n",
    "from sklearn.impute import SimpleImputer\n",
    "from sklearn.pipeline import Pipeline\n",
    "from sklearn.ensemble import RandomForestClassifier\n",
    "import random\n",
    "from scipy.io import savemat\n",
    "plt.rcParams['figure.dpi']= 120\n",
    "plt.rcParams['xtick.labelsize'] = 8\n",
    "plt.rcParams['ytick.labelsize'] = 8 \n",
    "\n",
    "\n",
    "import sys\n",
    "\n",
    "import os\n",
    "\n",
    "from IPython.core.display import display, HTML\n",
    "\n",
    "from bayesian.bin import abda\n",
    "import pprint\n",
    "import warnings\n",
    "warnings.filterwarnings('ignore')"
   ]
  },
  {
   "cell_type": "code",
   "execution_count": 145,
   "metadata": {},
   "outputs": [
    {
     "data": {
      "text/plain": [
       "array([[305., 133.,   0.,   8.,   1.],\n",
       "       [159., 195.,   0.,   3.,   1.],\n",
       "       [251., 336.,   0.,  11.,   1.],\n",
       "       ...,\n",
       "       [ 16., 145.,  11.,   4.,   1.],\n",
       "       [  3., 192.,  11.,   1.,   1.],\n",
       "       [100., 126.,  11.,   5.,   0.]], dtype=float32)"
      ]
     },
     "execution_count": 145,
     "metadata": {},
     "output_type": "execute_result"
    }
   ],
   "source": [
    "data = oml.datasets.get_dataset(984)  # typical datasets 985 4 897\n",
    "X, y, features = data.get_data(target=data.default_target_attribute, return_attribute_names=True)\n",
    "Xy = data.get_data()\n",
    "Xy"
   ]
  },
  {
   "cell_type": "code",
   "execution_count": 146,
   "metadata": {
    "collapsed": true
   },
   "outputs": [],
   "source": [
    "def identify_missing(df=None):\n",
    "    \"\"\"\n",
    "    Detect missing values\n",
    "    \n",
    "    ---\n",
    "    input:\n",
    "    \n",
    "    df : The input DataFrame\n",
    "    \n",
    "    \"\"\"\n",
    "    \n",
    "    display(HTML('<h4>Identify Missing Data ...</h4>'))\n",
    "    na_values=['n/a', 'na', '--', '?']\n",
    "    print('The default setting of missing characters is {}'.format(na_values))\n",
    "    ans = input('Do you want to add extra character? [y/n]')\n",
    "    if ans == 'y':\n",
    "        char = input('Input the character to be identified as missing: ')\n",
    "        na_values.append(char)\n",
    "        print('New missing character added!')\n",
    "        print(na_values)\n",
    "    else:\n",
    "        pass\n",
    "    for value in na_values:\n",
    "        df = df.replace(value, np.nan)\n",
    "    \n",
    "    # flag indicates whether any missing value is detected\n",
    "    flag = df.isnull().values.any()\n",
    "    if flag:\n",
    "        print(\"\")\n",
    "        display(HTML('<bold>Missing values detected!</bold>'))\n",
    "        print(\"\")\n",
    "        # number of missing in each feature\n",
    "        print(\"Number of missing in each feature\")\n",
    "#         for col in df.columns:\n",
    "#             print(df[col].isnull().sum())\n",
    "        print(df.isnull().sum())\n",
    "        print(\"\")\n",
    "        print(\"Records containing missing values:\")\n",
    "        display(df[df.isnull().any(axis=1)].head())\n",
    "        print(\"\")\n",
    "#         # number of missing in each row\n",
    "#         for i in df.isnull().sum(axis=1):\n",
    "#             print(i)\n",
    "        # identify missing mechanism\n",
    "        identify_missing_mechanism(df)\n",
    "        # visualize missing data\n",
    "#         visualize_missing(df)\n",
    "    else:\n",
    "        print(\"No missing value detected\")\n",
    "    return flag"
   ]
  },
  {
   "cell_type": "code",
   "execution_count": 147,
   "metadata": {
    "collapsed": true
   },
   "outputs": [],
   "source": [
    "def identify_missing_mechanism(df=None):\n",
    "    \"\"\"\n",
    "    Try to guess missing mechanism of the dataset\n",
    "    MCAR: Missing completely at ramdom\n",
    "    MAR: Missing at random\n",
    "    MNAR: Missing not at random (not available here, normally involes field expert)\n",
    "    \n",
    "    ---\n",
    "    input:\n",
    "    \n",
    "    df: input DataFrame\n",
    "    \n",
    "    \"\"\"\n",
    "    # Pearson correlation coefficient between every 2 features\n",
    "#     print(\"\")\n",
    "#     print(\"Missing correlation (Pearson correlation coefficient) between every 2 features\")\n",
    "#     display(df.isnull().corr())\n",
    "    df2 = df.copy()\n",
    "    missing_columns = df2.columns[df2.isnull().any(axis=0)] # columns containing missing values\n",
    "    # relace nan as true, otherwise false for features containing missing values\n",
    "    df2[df2.columns[df2.isnull().any(axis=0)]] = df2[df2.columns[df2.isnull().any(axis=0)]].isnull() \n",
    "    df2[missing_columns] = df2[missing_columns].astype(int) # replace true as 1, false as 0\n",
    "    df_missing_corr = df2.corr()[missing_columns] # compute correlations between features containing missing values and other features\n",
    "    print(\"Missing correlation between features containing missing values and other features\")\n",
    "    display(df_missing_corr)\n",
    "    flag_mar = False\n",
    "    # test if there is some correlation of a value being missed in feature and the value of any other of the features\n",
    "    for col in df_missing_corr:\n",
    "        list_high_corr =[]\n",
    "        list_high_corr = list_high_corr + (df_missing_corr[col].index[df_missing_corr[col]>0.6].tolist())\n",
    "        list_high_corr.remove(int(col))\n",
    "#         print(list_high_corr)\n",
    "        if list_high_corr:\n",
    "            flag_mar = True\n",
    "    if flag_mar:\n",
    "        display(HTML('<bold>Missing mechanism is probably missing at random</bold>'))\n",
    "    else:\n",
    "        display(HTML('<bold>Missing mechanism is probably missing completely at random</bold>'))\n",
    "#     tri_lower_no_diag = np.tril(df.isnull().corr(), k=-1)\n",
    "#     # if any 2 features highly missing correlated\n",
    "#     if (tri_lower_no_diag > 0.6).any() or (tri_lower_no_diag < -0.6).any():\n",
    "#         display(HTML('<bold>Missing mechanism is highly possible to be missing at random</bold>'))\n",
    "#     elif (tri_lower_no_diag > -0.2).all() and (tri_lower_no_diag < 0.2).all():\n",
    "#         display(HTML('<bold>Missing mechanism is highly possible to be missing completely at random</bold>'))\n",
    "#     else:\n",
    "#         display(HTML('<bold>Missing mechanism is hard to guess</bold>'))"
   ]
  },
  {
   "cell_type": "code",
   "execution_count": 148,
   "metadata": {},
   "outputs": [
    {
     "data": {
      "text/html": [
       "<h4>Identify Missing Data ...</h4>"
      ],
      "text/plain": [
       "<IPython.core.display.HTML object>"
      ]
     },
     "metadata": {},
     "output_type": "display_data"
    },
    {
     "name": "stdout",
     "output_type": "stream",
     "text": [
      "The default setting of missing characters is ['n/a', 'na', '--', '?']\n",
      "Do you want to add extra character? [y/n]n\n",
      "\n"
     ]
    },
    {
     "data": {
      "text/html": [
       "<bold>Missing values detected!</bold>"
      ],
      "text/plain": [
       "<IPython.core.display.HTML object>"
      ]
     },
     "metadata": {},
     "output_type": "display_data"
    },
    {
     "name": "stdout",
     "output_type": "stream",
     "text": [
      "\n",
      "Number of missing in each feature\n",
      "0    0\n",
      "1    1\n",
      "2    0\n",
      "3    0\n",
      "dtype: int64\n",
      "\n",
      "Records containing missing values:\n"
     ]
    },
    {
     "data": {
      "text/html": [
       "<div>\n",
       "<style scoped>\n",
       "    .dataframe tbody tr th:only-of-type {\n",
       "        vertical-align: middle;\n",
       "    }\n",
       "\n",
       "    .dataframe tbody tr th {\n",
       "        vertical-align: top;\n",
       "    }\n",
       "\n",
       "    .dataframe thead th {\n",
       "        text-align: right;\n",
       "    }\n",
       "</style>\n",
       "<table border=\"1\" class=\"dataframe\">\n",
       "  <thead>\n",
       "    <tr style=\"text-align: right;\">\n",
       "      <th></th>\n",
       "      <th>0</th>\n",
       "      <th>1</th>\n",
       "      <th>2</th>\n",
       "      <th>3</th>\n",
       "    </tr>\n",
       "  </thead>\n",
       "  <tbody>\n",
       "    <tr>\n",
       "      <th>59</th>\n",
       "      <td>285.0</td>\n",
       "      <td>NaN</td>\n",
       "      <td>1.0</td>\n",
       "      <td>5.0</td>\n",
       "    </tr>\n",
       "  </tbody>\n",
       "</table>\n",
       "</div>"
      ],
      "text/plain": [
       "        0   1    2    3\n",
       "59  285.0 NaN  1.0  5.0"
      ]
     },
     "metadata": {},
     "output_type": "display_data"
    },
    {
     "name": "stdout",
     "output_type": "stream",
     "text": [
      "\n",
      "Missing correlation between features containing missing values and other features\n"
     ]
    },
    {
     "data": {
      "text/html": [
       "<div>\n",
       "<style scoped>\n",
       "    .dataframe tbody tr th:only-of-type {\n",
       "        vertical-align: middle;\n",
       "    }\n",
       "\n",
       "    .dataframe tbody tr th {\n",
       "        vertical-align: top;\n",
       "    }\n",
       "\n",
       "    .dataframe thead th {\n",
       "        text-align: right;\n",
       "    }\n",
       "</style>\n",
       "<table border=\"1\" class=\"dataframe\">\n",
       "  <thead>\n",
       "    <tr style=\"text-align: right;\">\n",
       "      <th></th>\n",
       "      <th>1</th>\n",
       "    </tr>\n",
       "  </thead>\n",
       "  <tbody>\n",
       "    <tr>\n",
       "      <th>0</th>\n",
       "      <td>0.050284</td>\n",
       "    </tr>\n",
       "    <tr>\n",
       "      <th>1</th>\n",
       "      <td>1.000000</td>\n",
       "    </tr>\n",
       "    <tr>\n",
       "      <th>2</th>\n",
       "      <td>-0.068455</td>\n",
       "    </tr>\n",
       "    <tr>\n",
       "      <th>3</th>\n",
       "      <td>-0.007790</td>\n",
       "    </tr>\n",
       "  </tbody>\n",
       "</table>\n",
       "</div>"
      ],
      "text/plain": [
       "          1\n",
       "0  0.050284\n",
       "1  1.000000\n",
       "2 -0.068455\n",
       "3 -0.007790"
      ]
     },
     "metadata": {},
     "output_type": "display_data"
    },
    {
     "data": {
      "text/html": [
       "<bold>Missing mechanism is probably missing completely at random</bold>"
      ],
      "text/plain": [
       "<IPython.core.display.HTML object>"
      ]
     },
     "metadata": {},
     "output_type": "display_data"
    },
    {
     "data": {
      "text/plain": [
       "True"
      ]
     },
     "execution_count": 148,
     "metadata": {},
     "output_type": "execute_result"
    }
   ],
   "source": [
    "identify_missing(pd.DataFrame(X))"
   ]
  },
  {
   "cell_type": "markdown",
   "metadata": {},
   "source": [
    "### Draft below"
   ]
  },
  {
   "cell_type": "code",
   "execution_count": 125,
   "metadata": {
    "collapsed": true
   },
   "outputs": [],
   "source": [
    "df2 = pd.DataFrame(X).copy()"
   ]
  },
  {
   "cell_type": "code",
   "execution_count": 126,
   "metadata": {},
   "outputs": [
    {
     "data": {
      "text/html": [
       "<div>\n",
       "<style scoped>\n",
       "    .dataframe tbody tr th:only-of-type {\n",
       "        vertical-align: middle;\n",
       "    }\n",
       "\n",
       "    .dataframe tbody tr th {\n",
       "        vertical-align: top;\n",
       "    }\n",
       "\n",
       "    .dataframe thead th {\n",
       "        text-align: right;\n",
       "    }\n",
       "</style>\n",
       "<table border=\"1\" class=\"dataframe\">\n",
       "  <thead>\n",
       "    <tr style=\"text-align: right;\">\n",
       "      <th></th>\n",
       "      <th>0</th>\n",
       "      <th>1</th>\n",
       "      <th>2</th>\n",
       "      <th>3</th>\n",
       "      <th>4</th>\n",
       "      <th>5</th>\n",
       "      <th>6</th>\n",
       "      <th>7</th>\n",
       "      <th>8</th>\n",
       "      <th>9</th>\n",
       "      <th>10</th>\n",
       "      <th>11</th>\n",
       "      <th>12</th>\n",
       "    </tr>\n",
       "  </thead>\n",
       "  <tbody>\n",
       "    <tr>\n",
       "      <th>0</th>\n",
       "      <td>28.0</td>\n",
       "      <td>1.0</td>\n",
       "      <td>3.0</td>\n",
       "      <td>130.0</td>\n",
       "      <td>132.0</td>\n",
       "      <td>1.0</td>\n",
       "      <td>0.0</td>\n",
       "      <td>185.0</td>\n",
       "      <td>0.0</td>\n",
       "      <td>0.0</td>\n",
       "      <td>NaN</td>\n",
       "      <td>NaN</td>\n",
       "      <td>NaN</td>\n",
       "    </tr>\n",
       "    <tr>\n",
       "      <th>1</th>\n",
       "      <td>29.0</td>\n",
       "      <td>1.0</td>\n",
       "      <td>3.0</td>\n",
       "      <td>120.0</td>\n",
       "      <td>243.0</td>\n",
       "      <td>1.0</td>\n",
       "      <td>1.0</td>\n",
       "      <td>160.0</td>\n",
       "      <td>0.0</td>\n",
       "      <td>0.0</td>\n",
       "      <td>NaN</td>\n",
       "      <td>NaN</td>\n",
       "      <td>NaN</td>\n",
       "    </tr>\n",
       "    <tr>\n",
       "      <th>2</th>\n",
       "      <td>29.0</td>\n",
       "      <td>1.0</td>\n",
       "      <td>3.0</td>\n",
       "      <td>140.0</td>\n",
       "      <td>NaN</td>\n",
       "      <td>1.0</td>\n",
       "      <td>1.0</td>\n",
       "      <td>170.0</td>\n",
       "      <td>0.0</td>\n",
       "      <td>0.0</td>\n",
       "      <td>NaN</td>\n",
       "      <td>NaN</td>\n",
       "      <td>NaN</td>\n",
       "    </tr>\n",
       "    <tr>\n",
       "      <th>3</th>\n",
       "      <td>30.0</td>\n",
       "      <td>0.0</td>\n",
       "      <td>0.0</td>\n",
       "      <td>170.0</td>\n",
       "      <td>237.0</td>\n",
       "      <td>1.0</td>\n",
       "      <td>2.0</td>\n",
       "      <td>170.0</td>\n",
       "      <td>0.0</td>\n",
       "      <td>0.0</td>\n",
       "      <td>NaN</td>\n",
       "      <td>NaN</td>\n",
       "      <td>0.0</td>\n",
       "    </tr>\n",
       "    <tr>\n",
       "      <th>4</th>\n",
       "      <td>31.0</td>\n",
       "      <td>0.0</td>\n",
       "      <td>3.0</td>\n",
       "      <td>100.0</td>\n",
       "      <td>219.0</td>\n",
       "      <td>1.0</td>\n",
       "      <td>2.0</td>\n",
       "      <td>150.0</td>\n",
       "      <td>0.0</td>\n",
       "      <td>0.0</td>\n",
       "      <td>NaN</td>\n",
       "      <td>NaN</td>\n",
       "      <td>NaN</td>\n",
       "    </tr>\n",
       "  </tbody>\n",
       "</table>\n",
       "</div>"
      ],
      "text/plain": [
       "     0    1    2      3      4    5    6      7    8    9   10  11   12\n",
       "0  28.0  1.0  3.0  130.0  132.0  1.0  0.0  185.0  0.0  0.0 NaN NaN  NaN\n",
       "1  29.0  1.0  3.0  120.0  243.0  1.0  1.0  160.0  0.0  0.0 NaN NaN  NaN\n",
       "2  29.0  1.0  3.0  140.0    NaN  1.0  1.0  170.0  0.0  0.0 NaN NaN  NaN\n",
       "3  30.0  0.0  0.0  170.0  237.0  1.0  2.0  170.0  0.0  0.0 NaN NaN  0.0\n",
       "4  31.0  0.0  3.0  100.0  219.0  1.0  2.0  150.0  0.0  0.0 NaN NaN  NaN"
      ]
     },
     "execution_count": 126,
     "metadata": {},
     "output_type": "execute_result"
    }
   ],
   "source": [
    "df2.head()"
   ]
  },
  {
   "cell_type": "code",
   "execution_count": 127,
   "metadata": {},
   "outputs": [],
   "source": [
    "missing_columns = df2.columns[df2.isnull().any(axis=0)] # columns containing missing values"
   ]
  },
  {
   "cell_type": "code",
   "execution_count": 128,
   "metadata": {},
   "outputs": [],
   "source": [
    "# relace nan as true, otherwise false for features containing missing values\n",
    "df2[df2.columns[df2.isnull().any(axis=0)]] = df2[df2.columns[df2.isnull().any(axis=0)]].isnull() "
   ]
  },
  {
   "cell_type": "code",
   "execution_count": 129,
   "metadata": {},
   "outputs": [],
   "source": [
    "df2[missing_columns] = df2[missing_columns].astype(int) # replace true as 1, false as 0"
   ]
  },
  {
   "cell_type": "code",
   "execution_count": 130,
   "metadata": {},
   "outputs": [],
   "source": [
    "df_missing_corr = df2.corr()[missing_columns] # compute correlations between features containing missing values and other features"
   ]
  },
  {
   "cell_type": "code",
   "execution_count": 131,
   "metadata": {},
   "outputs": [
    {
     "data": {
      "text/html": [
       "<div>\n",
       "<style scoped>\n",
       "    .dataframe tbody tr th:only-of-type {\n",
       "        vertical-align: middle;\n",
       "    }\n",
       "\n",
       "    .dataframe tbody tr th {\n",
       "        vertical-align: top;\n",
       "    }\n",
       "\n",
       "    .dataframe thead th {\n",
       "        text-align: right;\n",
       "    }\n",
       "</style>\n",
       "<table border=\"1\" class=\"dataframe\">\n",
       "  <thead>\n",
       "    <tr style=\"text-align: right;\">\n",
       "      <th></th>\n",
       "      <th>3</th>\n",
       "      <th>4</th>\n",
       "      <th>5</th>\n",
       "      <th>6</th>\n",
       "      <th>7</th>\n",
       "      <th>8</th>\n",
       "      <th>10</th>\n",
       "      <th>11</th>\n",
       "      <th>12</th>\n",
       "    </tr>\n",
       "  </thead>\n",
       "  <tbody>\n",
       "    <tr>\n",
       "      <th>0</th>\n",
       "      <td>0.001300</td>\n",
       "      <td>0.021098</td>\n",
       "      <td>-0.015045</td>\n",
       "      <td>0.053738</td>\n",
       "      <td>0.001300</td>\n",
       "      <td>0.001300</td>\n",
       "      <td>-0.233563</td>\n",
       "      <td>-0.054337</td>\n",
       "      <td>0.001698</td>\n",
       "    </tr>\n",
       "    <tr>\n",
       "      <th>1</th>\n",
       "      <td>-0.094736</td>\n",
       "      <td>-0.018804</td>\n",
       "      <td>-0.084038</td>\n",
       "      <td>0.036026</td>\n",
       "      <td>-0.094736</td>\n",
       "      <td>-0.094736</td>\n",
       "      <td>-0.042244</td>\n",
       "      <td>-0.062613</td>\n",
       "      <td>-0.018525</td>\n",
       "    </tr>\n",
       "    <tr>\n",
       "      <th>2</th>\n",
       "      <td>0.069328</td>\n",
       "      <td>0.080302</td>\n",
       "      <td>0.023245</td>\n",
       "      <td>-0.114298</td>\n",
       "      <td>0.069328</td>\n",
       "      <td>0.069328</td>\n",
       "      <td>0.344377</td>\n",
       "      <td>0.021348</td>\n",
       "      <td>0.076310</td>\n",
       "    </tr>\n",
       "    <tr>\n",
       "      <th>3</th>\n",
       "      <td>1.000000</td>\n",
       "      <td>-0.017019</td>\n",
       "      <td>-0.009771</td>\n",
       "      <td>-0.003413</td>\n",
       "      <td>1.000000</td>\n",
       "      <td>1.000000</td>\n",
       "      <td>-0.078963</td>\n",
       "      <td>0.005932</td>\n",
       "      <td>0.018954</td>\n",
       "    </tr>\n",
       "    <tr>\n",
       "      <th>4</th>\n",
       "      <td>-0.017019</td>\n",
       "      <td>1.000000</td>\n",
       "      <td>-0.048724</td>\n",
       "      <td>-0.017019</td>\n",
       "      <td>-0.017019</td>\n",
       "      <td>-0.017019</td>\n",
       "      <td>0.083079</td>\n",
       "      <td>-0.096455</td>\n",
       "      <td>0.051369</td>\n",
       "    </tr>\n",
       "    <tr>\n",
       "      <th>5</th>\n",
       "      <td>-0.009771</td>\n",
       "      <td>-0.048724</td>\n",
       "      <td>1.000000</td>\n",
       "      <td>-0.009771</td>\n",
       "      <td>-0.009771</td>\n",
       "      <td>-0.009771</td>\n",
       "      <td>-0.007436</td>\n",
       "      <td>0.016982</td>\n",
       "      <td>-0.088177</td>\n",
       "    </tr>\n",
       "    <tr>\n",
       "      <th>6</th>\n",
       "      <td>-0.003413</td>\n",
       "      <td>-0.017019</td>\n",
       "      <td>-0.009771</td>\n",
       "      <td>1.000000</td>\n",
       "      <td>-0.003413</td>\n",
       "      <td>-0.003413</td>\n",
       "      <td>0.043222</td>\n",
       "      <td>0.005932</td>\n",
       "      <td>0.018954</td>\n",
       "    </tr>\n",
       "    <tr>\n",
       "      <th>7</th>\n",
       "      <td>1.000000</td>\n",
       "      <td>-0.017019</td>\n",
       "      <td>-0.009771</td>\n",
       "      <td>-0.003413</td>\n",
       "      <td>1.000000</td>\n",
       "      <td>1.000000</td>\n",
       "      <td>-0.078963</td>\n",
       "      <td>0.005932</td>\n",
       "      <td>0.018954</td>\n",
       "    </tr>\n",
       "    <tr>\n",
       "      <th>8</th>\n",
       "      <td>1.000000</td>\n",
       "      <td>-0.017019</td>\n",
       "      <td>-0.009771</td>\n",
       "      <td>-0.003413</td>\n",
       "      <td>1.000000</td>\n",
       "      <td>1.000000</td>\n",
       "      <td>-0.078963</td>\n",
       "      <td>0.005932</td>\n",
       "      <td>0.018954</td>\n",
       "    </tr>\n",
       "    <tr>\n",
       "      <th>9</th>\n",
       "      <td>0.091063</td>\n",
       "      <td>-0.083492</td>\n",
       "      <td>-0.038914</td>\n",
       "      <td>-0.037744</td>\n",
       "      <td>0.091063</td>\n",
       "      <td>0.091063</td>\n",
       "      <td>-0.841888</td>\n",
       "      <td>0.009632</td>\n",
       "      <td>0.005231</td>\n",
       "    </tr>\n",
       "    <tr>\n",
       "      <th>10</th>\n",
       "      <td>-0.078963</td>\n",
       "      <td>0.083079</td>\n",
       "      <td>-0.007436</td>\n",
       "      <td>0.043222</td>\n",
       "      <td>-0.078963</td>\n",
       "      <td>-0.078963</td>\n",
       "      <td>1.000000</td>\n",
       "      <td>-0.004334</td>\n",
       "      <td>0.026543</td>\n",
       "    </tr>\n",
       "    <tr>\n",
       "      <th>11</th>\n",
       "      <td>0.005932</td>\n",
       "      <td>-0.096455</td>\n",
       "      <td>0.016982</td>\n",
       "      <td>0.005932</td>\n",
       "      <td>0.005932</td>\n",
       "      <td>0.005932</td>\n",
       "      <td>-0.004334</td>\n",
       "      <td>1.000000</td>\n",
       "      <td>0.082355</td>\n",
       "    </tr>\n",
       "    <tr>\n",
       "      <th>12</th>\n",
       "      <td>0.018954</td>\n",
       "      <td>0.051369</td>\n",
       "      <td>-0.088177</td>\n",
       "      <td>0.018954</td>\n",
       "      <td>0.018954</td>\n",
       "      <td>0.018954</td>\n",
       "      <td>0.026543</td>\n",
       "      <td>0.082355</td>\n",
       "      <td>1.000000</td>\n",
       "    </tr>\n",
       "  </tbody>\n",
       "</table>\n",
       "</div>"
      ],
      "text/plain": [
       "          3         4         5         6         7         8         10  \\\n",
       "0   0.001300  0.021098 -0.015045  0.053738  0.001300  0.001300 -0.233563   \n",
       "1  -0.094736 -0.018804 -0.084038  0.036026 -0.094736 -0.094736 -0.042244   \n",
       "2   0.069328  0.080302  0.023245 -0.114298  0.069328  0.069328  0.344377   \n",
       "3   1.000000 -0.017019 -0.009771 -0.003413  1.000000  1.000000 -0.078963   \n",
       "4  -0.017019  1.000000 -0.048724 -0.017019 -0.017019 -0.017019  0.083079   \n",
       "5  -0.009771 -0.048724  1.000000 -0.009771 -0.009771 -0.009771 -0.007436   \n",
       "6  -0.003413 -0.017019 -0.009771  1.000000 -0.003413 -0.003413  0.043222   \n",
       "7   1.000000 -0.017019 -0.009771 -0.003413  1.000000  1.000000 -0.078963   \n",
       "8   1.000000 -0.017019 -0.009771 -0.003413  1.000000  1.000000 -0.078963   \n",
       "9   0.091063 -0.083492 -0.038914 -0.037744  0.091063  0.091063 -0.841888   \n",
       "10 -0.078963  0.083079 -0.007436  0.043222 -0.078963 -0.078963  1.000000   \n",
       "11  0.005932 -0.096455  0.016982  0.005932  0.005932  0.005932 -0.004334   \n",
       "12  0.018954  0.051369 -0.088177  0.018954  0.018954  0.018954  0.026543   \n",
       "\n",
       "          11        12  \n",
       "0  -0.054337  0.001698  \n",
       "1  -0.062613 -0.018525  \n",
       "2   0.021348  0.076310  \n",
       "3   0.005932  0.018954  \n",
       "4  -0.096455  0.051369  \n",
       "5   0.016982 -0.088177  \n",
       "6   0.005932  0.018954  \n",
       "7   0.005932  0.018954  \n",
       "8   0.005932  0.018954  \n",
       "9   0.009632  0.005231  \n",
       "10 -0.004334  0.026543  \n",
       "11  1.000000  0.082355  \n",
       "12  0.082355  1.000000  "
      ]
     },
     "execution_count": 131,
     "metadata": {},
     "output_type": "execute_result"
    }
   ],
   "source": [
    "df_missing_corr"
   ]
  },
  {
   "cell_type": "code",
   "execution_count": 132,
   "metadata": {},
   "outputs": [
    {
     "data": {
      "text/plain": [
       "Int64Index([3, 7, 8], dtype='int64')"
      ]
     },
     "execution_count": 132,
     "metadata": {},
     "output_type": "execute_result"
    }
   ],
   "source": [
    "df_missing_corr.index[df_missing_corr[3]>0.6]"
   ]
  },
  {
   "cell_type": "code",
   "execution_count": 133,
   "metadata": {},
   "outputs": [
    {
     "name": "stdout",
     "output_type": "stream",
     "text": [
      "[7, 8]\n",
      "[]\n",
      "[]\n",
      "[]\n",
      "[3, 8]\n",
      "[3, 7]\n",
      "[]\n",
      "[]\n",
      "[]\n"
     ]
    }
   ],
   "source": [
    "flag_mar = False\n",
    "# if there is some correlation of a value being missed in feature and the value of any other of the features\n",
    "for col in df_missing_corr:\n",
    "    list_high_corr =[]\n",
    "    list_high_corr = list_high_corr + (df_missing_corr[col].index[df_missing_corr[col]>0.6].tolist())\n",
    "    list_high_corr.remove(int(col))\n",
    "    print(list_high_corr)\n",
    "    if list_high_corr:\n",
    "        flag_mar = True"
   ]
  },
  {
   "cell_type": "code",
   "execution_count": 134,
   "metadata": {},
   "outputs": [
    {
     "data": {
      "text/plain": [
       "True"
      ]
     },
     "execution_count": 134,
     "metadata": {},
     "output_type": "execute_result"
    }
   ],
   "source": [
    "flag_mar"
   ]
  },
  {
   "cell_type": "code",
   "execution_count": 107,
   "metadata": {},
   "outputs": [
    {
     "data": {
      "image/png": "[encoded data removed]",
      "text/plain": [
       "<matplotlib.figure.Figure at 0x134dc87048>"
      ]
     },
     "metadata": {},
     "output_type": "display_data"
    }
   ],
   "source": [
    "import matplotlib.pyplot as plt\n",
    "import seaborn as sns\n",
    "\n",
    "ax = sns.heatmap(df_missing_corr, annot=True,  annot_kws={'size': 6}, cmap=\"RdBu\")\n",
    "plt.show()\n",
    "\n",
    "# sns.heatmap(corr_mat, mask=mask, cmap=cmap, ax=ax0, cbar=False,\n",
    "#                     annot=True, annot_kws={'size': fontsize - 2})"
   ]
  },
  {
   "cell_type": "code",
   "execution_count": null,
   "metadata": {
    "collapsed": true
   },
   "outputs": [],
   "source": []
  }
 ],
 "metadata": {
  "kernelspec": {
   "display_name": "Python 3",
   "language": "python",
   "name": "python3"
  },
  "language_info": {
   "codemirror_mode": {
    "name": "ipython",
    "version": 3
   },
   "file_extension": ".py",
   "mimetype": "text/x-python",
   "name": "python",
   "nbconvert_exporter": "python",
   "pygments_lexer": "ipython3",
   "version": "3.6.3"
  }
 },
 "nbformat": 4,
 "nbformat_minor": 2
}
